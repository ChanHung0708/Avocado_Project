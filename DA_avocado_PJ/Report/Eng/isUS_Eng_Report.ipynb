{
    "metadata": {
        "kernelspec": {
            "name": "SQL",
            "display_name": "SQL",
            "language": "sql"
        },
        "language_info": {
            "name": "sql",
            "version": ""
        }
    },
    "nbformat_minor": 2,
    "nbformat": 4,
    "cells": [
        {
            "cell_type": "markdown",
            "source": [
                "# **AVOCADO DATA PROJECT**\n",
                "\n",
                "## **_Overall analysis of avocado market in the US from 2015 to 2022_**"
            ],
            "metadata": {
                "azdata_cell_guid": "224e8f8b-0fa2-48d4-92e7-c1789aa93ae6"
            },
            "attachments": {}
        },
        {
            "cell_type": "markdown",
            "source": [
                "### <span style=\"font-size: 14px;\">Analysis based on</span> **#avocado\\_isUS\\_2022**"
            ],
            "metadata": {
                "azdata_cell_guid": "1790e97a-8fdb-4945-9f00-a397921096d2"
            },
            "attachments": {}
        },
        {
            "cell_type": "markdown",
            "source": [
                "1. **REVENUE**"
            ],
            "metadata": {
                "azdata_cell_guid": "25b5626a-f574-4350-ac60-f272c0b2b16f"
            },
            "attachments": {}
        },
        {
            "cell_type": "code",
            "source": [
                "--Conventional\r\n",
                "SELECT year,AVG(average_price)*SUM(total_volume) as Revenue_Con FROM avocado_isUS_2022\r\n",
                "WHERE type ='Conventional'\r\n",
                "GROUP BY geography,type,year\r\n",
                "ORDER BY year\r\n",
                "--Organic\r\n",
                "SELECT year,AVG(average_price)*SUM(total_volume) as Revenue_Org FROM avocado_isUS_2022\r\n",
                "WHERE type ='Organic'\r\n",
                "GROUP BY geography,type,year\r\n",
                "ORDER BY year"
            ],
            "metadata": {
                "azdata_cell_guid": "12da178c-f5d3-4425-8c72-e6be9da172a7",
                "language": "sql"
            },
            "outputs": [
                {
                    "output_type": "display_data",
                    "data": {
                        "text/html": "(8 rows affected)"
                    },
                    "metadata": {}
                },
                {
                    "output_type": "display_data",
                    "data": {
                        "text/html": "(8 rows affected)"
                    },
                    "metadata": {}
                },
                {
                    "output_type": "display_data",
                    "data": {
                        "text/html": "Total execution time: 00:00:00.025"
                    },
                    "metadata": {}
                },
                {
                    "output_type": "execute_result",
                    "execution_count": 1,
                    "data": {
                        "application/vnd.dataresource+json": {
                            "schema": {
                                "fields": [
                                    {
                                        "name": "year"
                                    },
                                    {
                                        "name": "Revenue_Con"
                                    }
                                ]
                            },
                            "data": [
                                {
                                    "0": "2015",
                                    "1": "1359187051.8134363"
                                },
                                {
                                    "0": "2016",
                                    "1": "1308968540.5572515"
                                },
                                {
                                    "0": "2017",
                                    "1": "1494987598.2972066"
                                },
                                {
                                    "0": "2018",
                                    "1": "1380332178.0031629"
                                },
                                {
                                    "0": "2019",
                                    "1": "1362530490.0921106"
                                },
                                {
                                    "0": "2020",
                                    "1": "1174958156.7824662"
                                },
                                {
                                    "0": "2021",
                                    "1": "1025208166.8200291"
                                },
                                {
                                    "0": "2022",
                                    "1": "1058908312.2300941"
                                }
                            ]
                        },
                        "text/html": "<table><tr><th>year</th><th>Revenue_Con</th></tr><tr><td>2015</td><td>1359187051.8134363</td></tr><tr><td>2016</td><td>1308968540.5572515</td></tr><tr><td>2017</td><td>1494987598.2972066</td></tr><tr><td>2018</td><td>1380332178.0031629</td></tr><tr><td>2019</td><td>1362530490.0921106</td></tr><tr><td>2020</td><td>1174958156.7824662</td></tr><tr><td>2021</td><td>1025208166.8200291</td></tr><tr><td>2022</td><td>1058908312.2300941</td></tr></table>"
                    },
                    "metadata": {
                        "azdata_chartOptions": {
                            "type": "bar",
                            "dataDirection": "horizontal",
                            "columnsAsLabels": true,
                            "labelFirstColumn": true,
                            "legendPosition": "top"
                        }
                    }
                },
                {
                    "output_type": "execute_result",
                    "execution_count": 1,
                    "data": {
                        "application/vnd.dataresource+json": {
                            "schema": {
                                "fields": [
                                    {
                                        "name": "year"
                                    },
                                    {
                                        "name": "Revenue_Org"
                                    }
                                ]
                            },
                            "data": [
                                {
                                    "0": "2015",
                                    "1": "36504230.53344666"
                                },
                                {
                                    "0": "2016",
                                    "1": "36241321.90639084"
                                },
                                {
                                    "0": "2017",
                                    "1": "38534030.991121165"
                                },
                                {
                                    "0": "2018",
                                    "1": "37019208.253344364"
                                },
                                {
                                    "0": "2019",
                                    "1": "29535711.58030229"
                                },
                                {
                                    "0": "2020",
                                    "1": "21413517.61187839"
                                },
                                {
                                    "0": "2021",
                                    "1": "17029318.6843664"
                                },
                                {
                                    "0": "2022",
                                    "1": "25004157.937022857"
                                }
                            ]
                        },
                        "text/html": "<table><tr><th>year</th><th>Revenue_Org</th></tr><tr><td>2015</td><td>36504230.53344666</td></tr><tr><td>2016</td><td>36241321.90639084</td></tr><tr><td>2017</td><td>38534030.991121165</td></tr><tr><td>2018</td><td>37019208.253344364</td></tr><tr><td>2019</td><td>29535711.58030229</td></tr><tr><td>2020</td><td>21413517.61187839</td></tr><tr><td>2021</td><td>17029318.6843664</td></tr><tr><td>2022</td><td>25004157.937022857</td></tr></table>"
                    },
                    "metadata": {
                        "azdata_chartOptions": {
                            "type": "bar",
                            "dataDirection": "horizontal",
                            "columnsAsLabels": true,
                            "labelFirstColumn": true,
                            "legendPosition": "top"
                        }
                    }
                }
            ],
            "execution_count": 1
        },
        {
            "cell_type": "markdown",
            "source": [
                "The data of Conventional & Organic avocado shows that avocado prices are fall sharply starting in 2020, which is most likely due to the impact of the COVID-19 epidemic. However, until 2022, sales of both avocados are showing a slight increase, which means that the avocado market in the US is showing signs of recovery.\n",
                "\n",
                "The **Revenues** of Organic shows signs of stronger growth than the Conventional in 2022\n",
                "\n",
                "**Conventional** in **2021** compared to **2022 :** an increase of about **3.29%**\n",
                "\n",
                "**Organic** in **2021** compared to **2022 :** an increase of about **46.83%**\n",
                "\n",
                "Need to analyze **PRICE** and **VOLUME** to understand why is there this different."
            ],
            "metadata": {
                "language": "sql",
                "azdata_cell_guid": "b16b6298-b614-4b85-9270-420b8bf85c3f"
            },
            "attachments": {}
        },
        {
            "cell_type": "markdown",
            "source": [
                "2. **PRICE**"
            ],
            "metadata": {
                "language": "sql",
                "azdata_cell_guid": "1caa48b6-95ae-4a41-a807-de3a6672d9f4"
            },
            "attachments": {}
        },
        {
            "cell_type": "code",
            "source": [
                "--Conventional\r\n",
                "SELECT  year, AVG(average_price) as Price_Con FROM avocado_isUS_2022\r\n",
                "WHERE type ='Conventional'\r\n",
                "GROUP BY geography,type,year\r\n",
                "ORDER BY year\r\n",
                "--Organic\r\n",
                "SELECT  year, AVG(average_price) as Price_Org FROM avocado_isUS_2022\r\n",
                "WHERE type ='Organic'\r\n",
                "GROUP BY geography,type,year\r\n",
                "ORDER BY year"
            ],
            "metadata": {
                "language": "sql",
                "azdata_cell_guid": "e1326593-837a-4ed0-8593-2e8861283cdf"
            },
            "outputs": [
                {
                    "output_type": "display_data",
                    "data": {
                        "text/html": "(8 rows affected)"
                    },
                    "metadata": {}
                },
                {
                    "output_type": "display_data",
                    "data": {
                        "text/html": "(8 rows affected)"
                    },
                    "metadata": {}
                },
                {
                    "output_type": "display_data",
                    "data": {
                        "text/html": "Total execution time: 00:00:00.025"
                    },
                    "metadata": {}
                },
                {
                    "output_type": "execute_result",
                    "execution_count": 2,
                    "data": {
                        "application/vnd.dataresource+json": {
                            "schema": {
                                "fields": [
                                    {
                                        "name": "year"
                                    },
                                    {
                                        "name": "Price_Con"
                                    }
                                ]
                            },
                            "data": [
                                {
                                    "0": "2015",
                                    "1": "1.0124999915178006"
                                },
                                {
                                    "0": "2016",
                                    "1": "1.0467307682220752"
                                },
                                {
                                    "0": "2017",
                                    "1": "1.2216981177060109"
                                },
                                {
                                    "0": "2018",
                                    "1": "1.083673474740009"
                                },
                                {
                                    "0": "2019",
                                    "1": "1.143653848996529"
                                },
                                {
                                    "0": "2020",
                                    "1": "1.0187499982615311"
                                },
                                {
                                    "0": "2021",
                                    "1": "1.0942307733572447"
                                },
                                {
                                    "0": "2022",
                                    "1": "1.282307689006512"
                                }
                            ]
                        },
                        "text/html": "<table><tr><th>year</th><th>Price_Con</th></tr><tr><td>2015</td><td>1.0124999915178006</td></tr><tr><td>2016</td><td>1.0467307682220752</td></tr><tr><td>2017</td><td>1.2216981177060109</td></tr><tr><td>2018</td><td>1.083673474740009</td></tr><tr><td>2019</td><td>1.143653848996529</td></tr><tr><td>2020</td><td>1.0187499982615311</td></tr><tr><td>2021</td><td>1.0942307733572447</td></tr><tr><td>2022</td><td>1.282307689006512</td></tr></table>"
                    },
                    "metadata": {
                        "azdata_chartOptions": {
                            "type": "line",
                            "dataDirection": "vertical",
                            "columnsAsLabels": true,
                            "labelFirstColumn": false,
                            "legendPosition": "top",
                            "dataType": "number"
                        }
                    }
                },
                {
                    "output_type": "execute_result",
                    "execution_count": 2,
                    "data": {
                        "application/vnd.dataresource+json": {
                            "schema": {
                                "fields": [
                                    {
                                        "name": "year"
                                    },
                                    {
                                        "name": "Price_Org"
                                    }
                                ]
                            },
                            "data": [
                                {
                                    "0": "2015",
                                    "1": "1.5023076901069055"
                                },
                                {
                                    "0": "2016",
                                    "1": "1.480384613458927"
                                },
                                {
                                    "0": "2017",
                                    "1": "1.6515094311732166"
                                },
                                {
                                    "0": "2018",
                                    "1": "1.5616326453734417"
                                },
                                {
                                    "0": "2019",
                                    "1": "1.6201923145697668"
                                },
                                {
                                    "0": "2020",
                                    "1": "1.5304166749119759"
                                },
                                {
                                    "0": "2021",
                                    "1": "1.6039583384990692"
                                },
                                {
                                    "0": "2022",
                                    "1": "1.7082692315945258"
                                }
                            ]
                        },
                        "text/html": "<table><tr><th>year</th><th>Price_Org</th></tr><tr><td>2015</td><td>1.5023076901069055</td></tr><tr><td>2016</td><td>1.480384613458927</td></tr><tr><td>2017</td><td>1.6515094311732166</td></tr><tr><td>2018</td><td>1.5616326453734417</td></tr><tr><td>2019</td><td>1.6201923145697668</td></tr><tr><td>2020</td><td>1.5304166749119759</td></tr><tr><td>2021</td><td>1.6039583384990692</td></tr><tr><td>2022</td><td>1.7082692315945258</td></tr></table>"
                    },
                    "metadata": {
                        "azdata_chartOptions": {
                            "type": "line",
                            "dataDirection": "vertical",
                            "columnsAsLabels": true,
                            "labelFirstColumn": false,
                            "legendPosition": "top",
                            "dataType": "number"
                        }
                    }
                }
            ],
            "execution_count": 2
        },
        {
            "cell_type": "markdown",
            "source": [
                "In the US, the average price of **Organic** avocados is always **higher** than **Conventional 33% - 50%** in during 7 years from **2015** to 2022.\n",
                "\n",
                "The year **2022** is on record as the year with the **highest** avocado **prices** in both **Conventional** and **Organic.**\n",
                "\n",
                "Rising prices mean that the US avocado market is facing the biggest **shortage of avocados** since 2015 so far. [(LINK)](https:\\moit.gov.vn\\tin-tuc\\quoc-te\\gioi-thieu-thi-truong-qua-bo-hoa-ky.html)"
            ],
            "metadata": {
                "language": "sql",
                "azdata_cell_guid": "ac070196-c7e9-4161-a4cd-e685ad61cd45"
            },
            "attachments": {}
        },
        {
            "cell_type": "markdown",
            "source": [
                "3. **VOLUME**"
            ],
            "metadata": {
                "language": "sql",
                "azdata_cell_guid": "36221c5a-b38d-4967-9481-13ea8eaede88"
            },
            "attachments": {}
        },
        {
            "cell_type": "code",
            "source": [
                "--Conventional\r\n",
                "SELECT year, SUM(total_volume) as Volume_Con_lbs FROM avocado_isUS_2022\r\n",
                "WHERE type ='Conventional'\r\n",
                "GROUP BY geography,type,year\r\n",
                "ORDER BY year\r\n",
                "--Organic\r\n",
                "SELECT year, SUM(total_volume) as Volume_Org_lbs FROM avocado_isUS_2022\r\n",
                "WHERE type ='Organic'\r\n",
                "GROUP BY geography,type,year\r\n",
                "ORDER BY year"
            ],
            "metadata": {
                "language": "sql",
                "azdata_cell_guid": "fcc43557-a71b-4c2a-ab73-4043d2dbc95e",
                "tags": [
                    "hide_input"
                ]
            },
            "outputs": [
                {
                    "output_type": "display_data",
                    "data": {
                        "text/html": "(8 rows affected)"
                    },
                    "metadata": {}
                },
                {
                    "output_type": "display_data",
                    "data": {
                        "text/html": "(8 rows affected)"
                    },
                    "metadata": {}
                },
                {
                    "output_type": "display_data",
                    "data": {
                        "text/html": "Total execution time: 00:00:00.026"
                    },
                    "metadata": {}
                },
                {
                    "output_type": "execute_result",
                    "execution_count": 3,
                    "data": {
                        "application/vnd.dataresource+json": {
                            "schema": {
                                "fields": [
                                    {
                                        "name": "year"
                                    },
                                    {
                                        "name": "Volume_Con_lbs"
                                    }
                                ]
                            },
                            "data": [
                                {
                                    "0": "2015",
                                    "1": "1342406976"
                                },
                                {
                                    "0": "2016",
                                    "1": "1250530299"
                                },
                                {
                                    "0": "2017",
                                    "1": "1223696408"
                                },
                                {
                                    "0": "2018",
                                    "1": "1273752851"
                                },
                                {
                                    "0": "2019",
                                    "1": "1191383644"
                                },
                                {
                                    "0": "2020",
                                    "1": "1153333162"
                                },
                                {
                                    "0": "2021",
                                    "1": "936921344"
                                },
                                {
                                    "0": "2022",
                                    "1": "825783329"
                                }
                            ]
                        },
                        "text/html": "<table><tr><th>year</th><th>Volume_Con_lbs</th></tr><tr><td>2015</td><td>1342406976</td></tr><tr><td>2016</td><td>1250530299</td></tr><tr><td>2017</td><td>1223696408</td></tr><tr><td>2018</td><td>1273752851</td></tr><tr><td>2019</td><td>1191383644</td></tr><tr><td>2020</td><td>1153333162</td></tr><tr><td>2021</td><td>936921344</td></tr><tr><td>2022</td><td>825783329</td></tr></table>"
                    },
                    "metadata": {
                        "azdata_chartOptions": {
                            "type": "bar",
                            "dataDirection": "horizontal",
                            "columnsAsLabels": true,
                            "labelFirstColumn": true,
                            "legendPosition": "top"
                        }
                    }
                },
                {
                    "output_type": "execute_result",
                    "execution_count": 3,
                    "data": {
                        "application/vnd.dataresource+json": {
                            "schema": {
                                "fields": [
                                    {
                                        "name": "year"
                                    },
                                    {
                                        "name": "Volume_Org_lbs"
                                    }
                                ]
                            },
                            "data": [
                                {
                                    "0": "2015",
                                    "1": "24298771"
                                },
                                {
                                    "0": "2016",
                                    "1": "24481017.6875"
                                },
                                {
                                    "0": "2017",
                                    "1": "23332613.34375"
                                },
                                {
                                    "0": "2018",
                                    "1": "23705452.34375"
                                },
                                {
                                    "0": "2019",
                                    "1": "18229756.625"
                                },
                                {
                                    "0": "2020",
                                    "1": "13991952.625"
                                },
                                {
                                    "0": "2021",
                                    "1": "10617057.984375"
                                },
                                {
                                    "0": "2022",
                                    "1": "14637129.484375"
                                }
                            ]
                        },
                        "text/html": "<table><tr><th>year</th><th>Volume_Org_lbs</th></tr><tr><td>2015</td><td>24298771</td></tr><tr><td>2016</td><td>24481017.6875</td></tr><tr><td>2017</td><td>23332613.34375</td></tr><tr><td>2018</td><td>23705452.34375</td></tr><tr><td>2019</td><td>18229756.625</td></tr><tr><td>2020</td><td>13991952.625</td></tr><tr><td>2021</td><td>10617057.984375</td></tr><tr><td>2022</td><td>14637129.484375</td></tr></table>"
                    },
                    "metadata": {
                        "azdata_chartOptions": {
                            "type": "bar",
                            "dataDirection": "horizontal",
                            "columnsAsLabels": true,
                            "labelFirstColumn": true,
                            "legendPosition": "top"
                        }
                    }
                }
            ],
            "execution_count": 3
        },
        {
            "cell_type": "markdown",
            "source": [
                "The sales volume of **Conventional** avocados **decreased** continuously for many years from **2019** (1,191,383,644/lbs) - **2022** (825,783,329/lbs).\n",
                "\n",
                "**Organic** has a strong **increase** in sales volume in **2022** (14,637,129,484375/lbs) compared to the previous year's output in **2021** (10,617,057,984375/lbs).\n",
                "\n",
                "It shows that customers in the US tend to prefer **Organic** avocado varieties over **Conventional** varieties.\n",
                "\n",
                "  \n",
                "\n",
                "**Specifically:**"
            ],
            "metadata": {
                "language": "sql",
                "azdata_cell_guid": "62c13570-f27d-4b5a-a88d-6945b274c77c"
            },
            "attachments": {}
        },
        {
            "cell_type": "code",
            "source": [
                "SELECT year, \r\n",
                "SUM(_4046) as __4046Oz,\r\n",
                "SUM(_4225) as __4225Oz,\r\n",
                "SUM(_4770) as __4770Oz\r\n",
                "FROM avocado_isUS_2022\r\n",
                "WHERE type ='Organic'\r\n",
                "GROUP BY geography,type,year\r\n",
                "ORDER BY year"
            ],
            "metadata": {
                "language": "sql",
                "azdata_cell_guid": "c6cd0595-38cc-4300-8f1e-0ed9bcbb1ef6",
                "tags": [
                    "hide_input"
                ]
            },
            "outputs": [
                {
                    "output_type": "display_data",
                    "data": {
                        "text/html": "(8 rows affected)"
                    },
                    "metadata": {}
                },
                {
                    "output_type": "display_data",
                    "data": {
                        "text/html": "Total execution time: 00:00:00.012"
                    },
                    "metadata": {}
                },
                {
                    "output_type": "execute_result",
                    "execution_count": 4,
                    "data": {
                        "application/vnd.dataresource+json": {
                            "schema": {
                                "fields": [
                                    {
                                        "name": "year"
                                    },
                                    {
                                        "name": "__4046Oz"
                                    },
                                    {
                                        "name": "__4225Oz"
                                    },
                                    {
                                        "name": "__4770Oz"
                                    }
                                ]
                            },
                            "data": [
                                {
                                    "0": "2015",
                                    "1": "9612079.96875",
                                    "2": "14376136.765625",
                                    "3": "310541.2287597656"
                                },
                                {
                                    "0": "2016",
                                    "1": "6934600.2578125",
                                    "2": "17116658.71875",
                                    "3": "429758.72705078125"
                                },
                                {
                                    "0": "2017",
                                    "1": "6882024.4296875",
                                    "2": "16282228.6875",
                                    "3": "157027.9600830078"
                                },
                                {
                                    "0": "2018",
                                    "1": "7104916.78125",
                                    "2": "15590364.515625",
                                    "3": "71548.4700012207"
                                },
                                {
                                    "0": "2019",
                                    "1": "6759083.984375",
                                    "2": "11218817.40625",
                                    "3": "247357.86840820312"
                                },
                                {
                                    "0": "2020",
                                    "1": "5799565.1484375",
                                    "2": "7950621.671875",
                                    "3": "240688.36840820312"
                                },
                                {
                                    "0": "2021",
                                    "1": "4119032.28125",
                                    "2": "6287378.484375",
                                    "3": "210647.24612426758"
                                },
                                {
                                    "0": "2022",
                                    "1": "5359734.7109375",
                                    "2": "4506033.0953063965",
                                    "3": "4771361.300014496"
                                }
                            ]
                        },
                        "text/html": "<table><tr><th>year</th><th>__4046Oz</th><th>__4225Oz</th><th>__4770Oz</th></tr><tr><td>2015</td><td>9612079.96875</td><td>14376136.765625</td><td>310541.2287597656</td></tr><tr><td>2016</td><td>6934600.2578125</td><td>17116658.71875</td><td>429758.72705078125</td></tr><tr><td>2017</td><td>6882024.4296875</td><td>16282228.6875</td><td>157027.9600830078</td></tr><tr><td>2018</td><td>7104916.78125</td><td>15590364.515625</td><td>71548.4700012207</td></tr><tr><td>2019</td><td>6759083.984375</td><td>11218817.40625</td><td>247357.86840820312</td></tr><tr><td>2020</td><td>5799565.1484375</td><td>7950621.671875</td><td>240688.36840820312</td></tr><tr><td>2021</td><td>4119032.28125</td><td>6287378.484375</td><td>210647.24612426758</td></tr><tr><td>2022</td><td>5359734.7109375</td><td>4506033.0953063965</td><td>4771361.300014496</td></tr></table>"
                    },
                    "metadata": {
                        "azdata_chartOptions": {
                            "type": "bar",
                            "dataDirection": "horizontal",
                            "columnsAsLabels": true,
                            "labelFirstColumn": true,
                            "legendPosition": "top"
                        }
                    }
                }
            ],
            "execution_count": 4
        },
        {
            "cell_type": "markdown",
            "source": [
                "The unexpected increase in sales volume of **Organic** avocado varieties in **2022** is specifically due to the unexpected increase in sales of **\\_4770** of **Organic** avocado varieties in **2022** (4,771,361,300014496) compared to 2021 only yes (210,647,24612426758)"
            ],
            "metadata": {
                "language": "sql",
                "azdata_cell_guid": "bdabfdb8-eb3e-4a3b-a1f4-61bd9b497035"
            },
            "attachments": {}
        },
        {
            "cell_type": "code",
            "source": [
                "SELECT year, \r\n",
                "SUM(_4770) as __4770Oz\r\n",
                "FROM avocado_isUS_2022\r\n",
                "WHERE type = 'Organic'\r\n",
                "GROUP BY geography,type,year\r\n",
                "ORDER BY year"
            ],
            "metadata": {
                "language": "sql",
                "azdata_cell_guid": "10f017be-b987-454d-a3ea-df1aaf781296"
            },
            "outputs": [
                {
                    "output_type": "display_data",
                    "data": {
                        "text/html": "(8 rows affected)"
                    },
                    "metadata": {}
                },
                {
                    "output_type": "display_data",
                    "data": {
                        "text/html": "Total execution time: 00:00:00.013"
                    },
                    "metadata": {}
                },
                {
                    "output_type": "execute_result",
                    "execution_count": 5,
                    "data": {
                        "application/vnd.dataresource+json": {
                            "schema": {
                                "fields": [
                                    {
                                        "name": "year"
                                    },
                                    {
                                        "name": "__4770Oz"
                                    }
                                ]
                            },
                            "data": [
                                {
                                    "0": "2015",
                                    "1": "310541.2287597656"
                                },
                                {
                                    "0": "2016",
                                    "1": "429758.72705078125"
                                },
                                {
                                    "0": "2017",
                                    "1": "157027.9600830078"
                                },
                                {
                                    "0": "2018",
                                    "1": "71548.4700012207"
                                },
                                {
                                    "0": "2019",
                                    "1": "247357.86840820312"
                                },
                                {
                                    "0": "2020",
                                    "1": "240688.36840820312"
                                },
                                {
                                    "0": "2021",
                                    "1": "210647.24612426758"
                                },
                                {
                                    "0": "2022",
                                    "1": "4771361.300014496"
                                }
                            ]
                        },
                        "text/html": "<table><tr><th>year</th><th>__4770Oz</th></tr><tr><td>2015</td><td>310541.2287597656</td></tr><tr><td>2016</td><td>429758.72705078125</td></tr><tr><td>2017</td><td>157027.9600830078</td></tr><tr><td>2018</td><td>71548.4700012207</td></tr><tr><td>2019</td><td>247357.86840820312</td></tr><tr><td>2020</td><td>240688.36840820312</td></tr><tr><td>2021</td><td>210647.24612426758</td></tr><tr><td>2022</td><td>4771361.300014496</td></tr></table>"
                    },
                    "metadata": {
                        "azdata_chartOptions": {
                            "type": "bar",
                            "dataDirection": "horizontal",
                            "columnsAsLabels": true,
                            "labelFirstColumn": true,
                            "legendPosition": "top"
                        }
                    }
                }
            ],
            "execution_count": 5
        },
        {
            "cell_type": "markdown",
            "source": [
                "Compared to **2021**, sales volume of **4770** **Organic** avocado varieties have increased **22 times** in **2022.**"
            ],
            "metadata": {
                "language": "sql",
                "azdata_cell_guid": "06515336-5f3f-4a47-b06e-87becd8138b9"
            },
            "attachments": {}
        },
        {
            "cell_type": "code",
            "source": [
                "--PERCENT OF ORGANIC VOLUME IN 2021\r\n",
                "SELECT year, \r\n",
                "SUM(_4046)/SUM(total_volume)*100 as Per_4046Oz,\r\n",
                "SUM(_4225)/SUM(total_volume)*100 as Per_4225Oz,\r\n",
                "SUM(_4770)/SUM(total_volume)*100 as Per_4770Oz\r\n",
                "FROM avocado_isUS_2022\r\n",
                "WHERE type ='Organic' and year ='2021'\r\n",
                "GROUP BY geography,type,year\r\n",
                "ORDER BY year\r\n",
                "--PERCENT OF ORGANIC VOLUME IN 2022\r\n",
                "SELECT year, \r\n",
                "SUM(_4046)/SUM(total_volume)*100 as Per_4046Oz,\r\n",
                "SUM(_4225)/SUM(total_volume)*100 as Per_4225Oz,\r\n",
                "SUM(_4770)/SUM(total_volume)*100 as Per_4770Oz\r\n",
                "FROM avocado_isUS_2022\r\n",
                "WHERE type ='Organic' and year ='2022'\r\n",
                "GROUP BY geography,type,year\r\n",
                "ORDER BY year\r\n",
                ""
            ],
            "metadata": {
                "language": "sql",
                "azdata_cell_guid": "1e31f073-ff15-4998-9373-804949d13561",
                "tags": [
                    "hide_input"
                ]
            },
            "outputs": [
                {
                    "output_type": "display_data",
                    "data": {
                        "text/html": "(1 row affected)"
                    },
                    "metadata": {}
                },
                {
                    "output_type": "display_data",
                    "data": {
                        "text/html": "(1 row affected)"
                    },
                    "metadata": {}
                },
                {
                    "output_type": "display_data",
                    "data": {
                        "text/html": "Total execution time: 00:00:00.076"
                    },
                    "metadata": {}
                },
                {
                    "output_type": "execute_result",
                    "metadata": {
                        "azdata_chartOptions": {
                            "type": "pie",
                            "dataDirection": "horizontal",
                            "columnsAsLabels": true,
                            "labelFirstColumn": true,
                            "legendPosition": "top"
                        }
                    },
                    "execution_count": 7,
                    "data": {
                        "application/vnd.dataresource+json": {
                            "schema": {
                                "fields": [
                                    {
                                        "name": "year"
                                    },
                                    {
                                        "name": "Per_4046Oz"
                                    },
                                    {
                                        "name": "Per_4225Oz"
                                    },
                                    {
                                        "name": "Per_4770Oz"
                                    }
                                ]
                            },
                            "data": [
                                {
                                    "0": "2021",
                                    "1": "38.79636230029008",
                                    "2": "59.219592599268665",
                                    "3": "1.9840453582741533"
                                }
                            ]
                        },
                        "text/html": [
                            "<table>",
                            "<tr><th>year</th><th>Per_4046Oz</th><th>Per_4225Oz</th><th>Per_4770Oz</th></tr>",
                            "<tr><td>2021</td><td>38.79636230029008</td><td>59.219592599268665</td><td>1.9840453582741533</td></tr>",
                            "</table>"
                        ]
                    }
                },
                {
                    "output_type": "execute_result",
                    "metadata": {
                        "azdata_chartOptions": {
                            "type": "pie",
                            "dataDirection": "horizontal",
                            "columnsAsLabels": true,
                            "labelFirstColumn": true,
                            "legendPosition": "top"
                        }
                    },
                    "execution_count": 7,
                    "data": {
                        "application/vnd.dataresource+json": {
                            "schema": {
                                "fields": [
                                    {
                                        "name": "year"
                                    },
                                    {
                                        "name": "Per_4046Oz"
                                    },
                                    {
                                        "name": "Per_4225Oz"
                                    },
                                    {
                                        "name": "Per_4770Oz"
                                    }
                                ]
                            },
                            "data": [
                                {
                                    "0": "2022",
                                    "1": "36.61738947284006",
                                    "2": "30.784950697584147",
                                    "3": "32.597657246305566"
                                }
                            ]
                        },
                        "text/html": [
                            "<table>",
                            "<tr><th>year</th><th>Per_4046Oz</th><th>Per_4225Oz</th><th>Per_4770Oz</th></tr>",
                            "<tr><td>2022</td><td>36.61738947284006</td><td>30.784950697584147</td><td>32.597657246305566</td></tr>",
                            "</table>"
                        ]
                    }
                }
            ],
            "execution_count": 7
        },
        {
            "cell_type": "markdown",
            "source": [
                "Data show that the percentage of **\\_4770** **Organic** avocados sold in **2022** has **increased** to **32.6%**, surpassing even **\\_4225** **Organic (30.8%)**. While the same period last year, the sales volume of these two types of avocados had a large difference.\n",
                "\n",
                "**4225 Organic (2021)**: accounting for **59.2%** of total organic sales volume  \n",
                "\n",
                "**4770 Organic (2021)**: accounting for **1.98%** of total organic sales volume  \n",
                "\n",
                "This shows that the trend of favoring **\\_4770 Organic** avocado is appearing in the US. Demand for this type of avocado will also increase sharply in **2022.**"
            ],
            "metadata": {
                "language": "sql",
                "azdata_cell_guid": "427d5576-628b-4e5c-a6ec-1bbdf3c8abbb"
            },
            "attachments": {}
        },
        {
            "cell_type": "code",
            "source": [
                "SELECT year, \r\n",
                "SUM(_4046) as __4046Oz,\r\n",
                "SUM(_4225) as __4225Oz,\r\n",
                "SUM(_4770) as __4770Oz \r\n",
                "FROM avocado_isUS_2022\r\n",
                "WHERE type ='Conventional'\r\n",
                "GROUP BY geography,type,year\r\n",
                "ORDER BY year"
            ],
            "metadata": {
                "language": "sql",
                "azdata_cell_guid": "2d29cd5c-fbe4-42f5-82d6-d2025c8478df"
            },
            "outputs": [
                {
                    "output_type": "display_data",
                    "data": {
                        "text/html": "(8 rows affected)"
                    },
                    "metadata": {}
                },
                {
                    "output_type": "display_data",
                    "data": {
                        "text/html": "Total execution time: 00:00:00.013"
                    },
                    "metadata": {}
                },
                {
                    "output_type": "execute_result",
                    "metadata": {
                        "azdata_chartOptions": {
                            "type": "bar",
                            "dataDirection": "horizontal",
                            "columnsAsLabels": true,
                            "labelFirstColumn": true,
                            "legendPosition": "top"
                        }
                    },
                    "execution_count": 8,
                    "data": {
                        "application/vnd.dataresource+json": {
                            "schema": {
                                "fields": [
                                    {
                                        "name": "year"
                                    },
                                    {
                                        "name": "__4046Oz"
                                    },
                                    {
                                        "name": "__4225Oz"
                                    },
                                    {
                                        "name": "__4770Oz"
                                    }
                                ]
                            },
                            "data": [
                                {
                                    "0": "2015",
                                    "1": "642295763.5",
                                    "2": "646812350",
                                    "3": "53298869.9375"
                                },
                                {
                                    "0": "2016",
                                    "1": "582012080.5",
                                    "2": "608520955.5",
                                    "3": "59997261.78125"
                                },
                                {
                                    "0": "2017",
                                    "1": "629495142.5",
                                    "2": "560752231.5",
                                    "3": "33449030.34375"
                                },
                                {
                                    "0": "2018",
                                    "1": "656826179.5",
                                    "2": "580248320.5",
                                    "3": "36678348.125"
                                },
                                {
                                    "0": "2019",
                                    "1": "615756300",
                                    "2": "530238781.5",
                                    "3": "45386245.625"
                                },
                                {
                                    "0": "2020",
                                    "1": "681665747",
                                    "2": "435489098.5",
                                    "3": "36082427.6875"
                                },
                                {
                                    "0": "2021",
                                    "1": "557177327",
                                    "2": "353250315.25",
                                    "3": "26493700.46875"
                                },
                                {
                                    "0": "2022",
                                    "1": "538637767.5",
                                    "2": "265609524.75",
                                    "3": "21536033.6875"
                                }
                            ]
                        },
                        "text/html": [
                            "<table>",
                            "<tr><th>year</th><th>__4046Oz</th><th>__4225Oz</th><th>__4770Oz</th></tr>",
                            "<tr><td>2015</td><td>642295763.5</td><td>646812350</td><td>53298869.9375</td></tr>",
                            "<tr><td>2016</td><td>582012080.5</td><td>608520955.5</td><td>59997261.78125</td></tr>",
                            "<tr><td>2017</td><td>629495142.5</td><td>560752231.5</td><td>33449030.34375</td></tr>",
                            "<tr><td>2018</td><td>656826179.5</td><td>580248320.5</td><td>36678348.125</td></tr>",
                            "<tr><td>2019</td><td>615756300</td><td>530238781.5</td><td>45386245.625</td></tr>",
                            "<tr><td>2020</td><td>681665747</td><td>435489098.5</td><td>36082427.6875</td></tr>",
                            "<tr><td>2021</td><td>557177327</td><td>353250315.25</td><td>26493700.46875</td></tr>",
                            "<tr><td>2022</td><td>538637767.5</td><td>265609524.75</td><td>21536033.6875</td></tr>",
                            "</table>"
                        ]
                    }
                }
            ],
            "execution_count": 8
        },
        {
            "cell_type": "markdown",
            "source": [
                "For the **Conventional** avocado variety, the **downward** trend in avocado sales volume in all 3 types **\\_4046,\\_4225,\\_4770** has not shown any signs of stopping.\n",
                "\n",
                "It shows that customers are increasingly choosing **Organic** avocados over **Conventional** , even though Organic avocados are often more expensive."
            ],
            "metadata": {
                "language": "sql",
                "azdata_cell_guid": "a085ddca-ace2-4fc3-a8f0-cd1e85c740a7"
            },
            "attachments": {}
        },
        {
            "cell_type": "markdown",
            "source": [
                "3. **SEASON**"
            ],
            "metadata": {
                "language": "sql",
                "azdata_cell_guid": "fa67838b-63ef-4d4f-937a-c8ca5da99fdf"
            },
            "attachments": {}
        },
        {
            "cell_type": "code",
            "source": [
                "--SEASON_Conventional\r\n",
                "SELECT MONTH(date) as Month, SUM(total_volume) as vol_con FROM avocado_isUS_2022\r\n",
                "WHERE type ='Conventional'\r\n",
                "GROUP BY geography,type,MONTH(date)\r\n",
                "ORDER BY 1 \r\n",
                "--SEASON_Organic\r\n",
                "SELECT MONTH(date) as Month, SUM(total_volume) as vol_org FROM avocado_isUS_2022\r\n",
                "WHERE type ='Organic'\r\n",
                "GROUP BY geography,type,MONTH(date)\r\n",
                "ORDER BY 1 "
            ],
            "metadata": {
                "language": "sql",
                "azdata_cell_guid": "c0de1d22-5c90-4b32-9d5f-b8fa167cd3e9"
            },
            "outputs": [
                {
                    "output_type": "display_data",
                    "data": {
                        "text/html": "(12 rows affected)"
                    },
                    "metadata": {}
                },
                {
                    "output_type": "display_data",
                    "data": {
                        "text/html": "(12 rows affected)"
                    },
                    "metadata": {}
                },
                {
                    "output_type": "display_data",
                    "data": {
                        "text/html": "Total execution time: 00:00:00.026"
                    },
                    "metadata": {}
                },
                {
                    "output_type": "execute_result",
                    "metadata": {
                        "azdata_chartOptions": {
                            "type": "bar",
                            "dataDirection": "vertical",
                            "columnsAsLabels": true,
                            "labelFirstColumn": false,
                            "legendPosition": "top"
                        }
                    },
                    "execution_count": 9,
                    "data": {
                        "application/vnd.dataresource+json": {
                            "schema": {
                                "fields": [
                                    {
                                        "name": "Month"
                                    },
                                    {
                                        "name": "vol_con"
                                    }
                                ]
                            },
                            "data": [
                                {
                                    "0": "1",
                                    "1": "895064453"
                                },
                                {
                                    "0": "2",
                                    "1": "850165250"
                                },
                                {
                                    "0": "3",
                                    "1": "816241608"
                                },
                                {
                                    "0": "4",
                                    "1": "804253789"
                                },
                                {
                                    "0": "5",
                                    "1": "952383489"
                                },
                                {
                                    "0": "6",
                                    "1": "794186327"
                                },
                                {
                                    "0": "7",
                                    "1": "818447907"
                                },
                                {
                                    "0": "8",
                                    "1": "757567216"
                                },
                                {
                                    "0": "9",
                                    "1": "703507824"
                                },
                                {
                                    "0": "10",
                                    "1": "677362246"
                                },
                                {
                                    "0": "11",
                                    "1": "618353296"
                                },
                                {
                                    "0": "12",
                                    "1": "510274608"
                                }
                            ]
                        },
                        "text/html": [
                            "<table>",
                            "<tr><th>Month</th><th>vol_con</th></tr>",
                            "<tr><td>1</td><td>895064453</td></tr>",
                            "<tr><td>2</td><td>850165250</td></tr>",
                            "<tr><td>3</td><td>816241608</td></tr>",
                            "<tr><td>4</td><td>804253789</td></tr>",
                            "<tr><td>5</td><td>952383489</td></tr>",
                            "<tr><td>6</td><td>794186327</td></tr>",
                            "<tr><td>7</td><td>818447907</td></tr>",
                            "<tr><td>8</td><td>757567216</td></tr>",
                            "<tr><td>9</td><td>703507824</td></tr>",
                            "<tr><td>10</td><td>677362246</td></tr>",
                            "<tr><td>11</td><td>618353296</td></tr>",
                            "<tr><td>12</td><td>510274608</td></tr>",
                            "</table>"
                        ]
                    }
                },
                {
                    "output_type": "execute_result",
                    "metadata": {
                        "azdata_chartOptions": {
                            "type": "bar",
                            "dataDirection": "vertical",
                            "columnsAsLabels": true,
                            "labelFirstColumn": false,
                            "legendPosition": "top"
                        }
                    },
                    "execution_count": 9,
                    "data": {
                        "application/vnd.dataresource+json": {
                            "schema": {
                                "fields": [
                                    {
                                        "name": "Month"
                                    },
                                    {
                                        "name": "vol_org"
                                    }
                                ]
                            },
                            "data": [
                                {
                                    "0": "1",
                                    "1": "13402442.9375"
                                },
                                {
                                    "0": "2",
                                    "1": "12777332.59375"
                                },
                                {
                                    "0": "3",
                                    "1": "14569741.984375"
                                },
                                {
                                    "0": "4",
                                    "1": "15184915.359375"
                                },
                                {
                                    "0": "5",
                                    "1": "18418215.546875"
                                },
                                {
                                    "0": "6",
                                    "1": "15811830.546875"
                                },
                                {
                                    "0": "7",
                                    "1": "12904256.265625"
                                },
                                {
                                    "0": "8",
                                    "1": "11816838.84375"
                                },
                                {
                                    "0": "9",
                                    "1": "11056192.25"
                                },
                                {
                                    "0": "10",
                                    "1": "10206592.296875"
                                },
                                {
                                    "0": "11",
                                    "1": "9828576.96875"
                                },
                                {
                                    "0": "12",
                                    "1": "7316815.5"
                                }
                            ]
                        },
                        "text/html": [
                            "<table>",
                            "<tr><th>Month</th><th>vol_org</th></tr>",
                            "<tr><td>1</td><td>13402442.9375</td></tr>",
                            "<tr><td>2</td><td>12777332.59375</td></tr>",
                            "<tr><td>3</td><td>14569741.984375</td></tr>",
                            "<tr><td>4</td><td>15184915.359375</td></tr>",
                            "<tr><td>5</td><td>18418215.546875</td></tr>",
                            "<tr><td>6</td><td>15811830.546875</td></tr>",
                            "<tr><td>7</td><td>12904256.265625</td></tr>",
                            "<tr><td>8</td><td>11816838.84375</td></tr>",
                            "<tr><td>9</td><td>11056192.25</td></tr>",
                            "<tr><td>10</td><td>10206592.296875</td></tr>",
                            "<tr><td>11</td><td>9828576.96875</td></tr>",
                            "<tr><td>12</td><td>7316815.5</td></tr>",
                            "</table>"
                        ]
                    }
                }
            ],
            "execution_count": 9
        }
    ]
}