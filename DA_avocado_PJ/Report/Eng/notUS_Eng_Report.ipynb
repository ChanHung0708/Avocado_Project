{
    "metadata": {
        "kernelspec": {
            "name": "SQL",
            "display_name": "SQL",
            "language": "sql"
        },
        "language_info": {
            "name": "sql",
            "version": ""
        }
    },
    "nbformat_minor": 2,
    "nbformat": 4,
    "cells": [
        {
            "cell_type": "markdown",
            "source": [
                "# **AVOCADO DATA PROJECT**\n",
                "\n",
                "## **Analyze and give direction to businesses through prices, regions, and sales volume.**"
            ],
            "metadata": {
                "azdata_cell_guid": "0c727afd-645a-4de1-89a3-d0e46bf20adf"
            },
            "attachments": {}
        },
        {
            "cell_type": "markdown",
            "source": [
                "### Analysis based on **#avocado\\_detail dataset**"
            ],
            "metadata": {
                "azdata_cell_guid": "309afe2c-ecfb-45a8-96c9-be15551f238e"
            },
            "attachments": {}
        },
        {
            "cell_type": "markdown",
            "source": [
                "In last analyze \"**Overall analysis of avocado market in the US from 2015 to 2022\".** It has been identified that the avocado market in the US has just experienced a serious crisis, which is reflected in a number of aspects such as decreased sales volume and decreased revenue. However, from 2021 to 2022, the avocados market in the U.S has shown signs of recovery.\n",
                "\n",
                "Revenues from **Organic** avocado varieties are increasing strongly again, from the previous analysis, it has also shown the preference for **\\_4770** **Organic** avocados of customers in the U.S. Therefore in this analysis we will focus more deeply on this type of avocado and this analysis will use 2020 as a worldwide crisis year to compare the post-crisis recovery across areas in the US."
            ],
            "metadata": {
                "azdata_cell_guid": "2e63a8eb-6575-4040-a31f-c76561ff49e3"
            },
            "attachments": {}
        },
        {
            "cell_type": "markdown",
            "source": [
                "## 1. **Revenue**"
            ],
            "metadata": {
                "azdata_cell_guid": "c52c1e4b-0e3e-4fae-ba47-5351a671b671"
            },
            "attachments": {}
        },
        {
            "cell_type": "markdown",
            "source": [
                "**Top 5 cities with the highest revenue from Organic avocado varieties in 3 years from 2020 - 2022**"
            ],
            "metadata": {
                "azdata_cell_guid": "a1668507-bff6-4881-b3f0-9b3441311b20"
            },
            "attachments": {}
        },
        {
            "cell_type": "code",
            "source": [
                "--Top 5 city have revenue best in 2020 - 2022 \r\n",
                "--2020\r\n",
                "SELECT DISTINCT TOP(5) geography,\r\n",
                "      AVG(average_price)*SUM(total_volume) as _Revenue2020\r\n",
                "FROM avocado_detail\r\n",
                "WHERE type ='Organic' AND year ='2020'\r\n",
                "GROUP BY geography,year,type\r\n",
                "ORDER BY 2 DESC\r\n",
                "--2021\r\n",
                "SELECT DISTINCT TOP(5) geography,\r\n",
                "      AVG(average_price)*SUM(total_volume) as _Revenue2021\r\n",
                "FROM avocado_detail\r\n",
                "WHERE type ='Organic' AND year ='2021'\r\n",
                "GROUP BY geography,year,type\r\n",
                "ORDER BY 2 DESC\r\n",
                "--2022\r\n",
                "SELECT DISTINCT TOP(5) geography,\r\n",
                "      AVG(average_price)*SUM(total_volume) as _Revenue2022\r\n",
                "FROM avocado_detail\r\n",
                "WHERE type ='Organic' AND year ='2022'\r\n",
                "GROUP BY geography,year,type\r\n",
                "ORDER BY 2 DESC"
            ],
            "metadata": {
                "azdata_cell_guid": "a6b6e354-331d-43f4-96b0-00dddcce7d91",
                "language": "sql"
            },
            "outputs": [
                {
                    "output_type": "display_data",
                    "data": {
                        "text/html": "(5 rows affected)"
                    },
                    "metadata": {}
                },
                {
                    "output_type": "display_data",
                    "data": {
                        "text/html": "(5 rows affected)"
                    },
                    "metadata": {}
                },
                {
                    "output_type": "display_data",
                    "data": {
                        "text/html": "(5 rows affected)"
                    },
                    "metadata": {}
                },
                {
                    "output_type": "display_data",
                    "data": {
                        "text/html": "Total execution time: 00:00:00.051"
                    },
                    "metadata": {}
                },
                {
                    "output_type": "execute_result",
                    "metadata": {},
                    "execution_count": 1,
                    "data": {
                        "application/vnd.dataresource+json": {
                            "schema": {
                                "fields": [
                                    {
                                        "name": "geography"
                                    },
                                    {
                                        "name": "_Revenue2020"
                                    }
                                ]
                            },
                            "data": [
                                {
                                    "0": "New York",
                                    "1": "2743164.4235777054"
                                },
                                {
                                    "0": "San Francisco",
                                    "1": "1552982.4993281683"
                                },
                                {
                                    "0": "Seattle",
                                    "1": "1125814.998999551"
                                },
                                {
                                    "0": "Los Angeles",
                                    "1": "1083958.141821162"
                                },
                                {
                                    "0": "Denver",
                                    "1": "802595.9778296074"
                                }
                            ]
                        },
                        "text/html": [
                            "<table>",
                            "<tr><th>geography</th><th>_Revenue2020</th></tr>",
                            "<tr><td>New York</td><td>2743164.4235777054</td></tr>",
                            "<tr><td>San Francisco</td><td>1552982.4993281683</td></tr>",
                            "<tr><td>Seattle</td><td>1125814.998999551</td></tr>",
                            "<tr><td>Los Angeles</td><td>1083958.141821162</td></tr>",
                            "<tr><td>Denver</td><td>802595.9778296074</td></tr>",
                            "</table>"
                        ]
                    }
                },
                {
                    "output_type": "execute_result",
                    "metadata": {},
                    "execution_count": 1,
                    "data": {
                        "application/vnd.dataresource+json": {
                            "schema": {
                                "fields": [
                                    {
                                        "name": "geography"
                                    },
                                    {
                                        "name": "_Revenue2021"
                                    }
                                ]
                            },
                            "data": [
                                {
                                    "0": "New York",
                                    "1": "1393970.6446006298"
                                },
                                {
                                    "0": "San Francisco",
                                    "1": "1305903.9214317764"
                                },
                                {
                                    "0": "Seattle",
                                    "1": "927839.7198667338"
                                },
                                {
                                    "0": "Sacramento",
                                    "1": "752532.728377774"
                                },
                                {
                                    "0": "Portland",
                                    "1": "698448.0352633409"
                                }
                            ]
                        },
                        "text/html": [
                            "<table>",
                            "<tr><th>geography</th><th>_Revenue2021</th></tr>",
                            "<tr><td>New York</td><td>1393970.6446006298</td></tr>",
                            "<tr><td>San Francisco</td><td>1305903.9214317764</td></tr>",
                            "<tr><td>Seattle</td><td>927839.7198667338</td></tr>",
                            "<tr><td>Sacramento</td><td>752532.728377774</td></tr>",
                            "<tr><td>Portland</td><td>698448.0352633409</td></tr>",
                            "</table>"
                        ]
                    }
                },
                {
                    "output_type": "execute_result",
                    "metadata": {},
                    "execution_count": 1,
                    "data": {
                        "application/vnd.dataresource+json": {
                            "schema": {
                                "fields": [
                                    {
                                        "name": "geography"
                                    },
                                    {
                                        "name": "_Revenue2022"
                                    }
                                ]
                            },
                            "data": [
                                {
                                    "0": "Seattle",
                                    "1": "1991402.6029253171"
                                },
                                {
                                    "0": "Los Angeles",
                                    "1": "1881621.85192562"
                                },
                                {
                                    "0": "San Francisco",
                                    "1": "1569091.5643661944"
                                },
                                {
                                    "0": "New York",
                                    "1": "1456081.7276417417"
                                },
                                {
                                    "0": "Portland",
                                    "1": "1287992.6116839212"
                                }
                            ]
                        },
                        "text/html": [
                            "<table>",
                            "<tr><th>geography</th><th>_Revenue2022</th></tr>",
                            "<tr><td>Seattle</td><td>1991402.6029253171</td></tr>",
                            "<tr><td>Los Angeles</td><td>1881621.85192562</td></tr>",
                            "<tr><td>San Francisco</td><td>1569091.5643661944</td></tr>",
                            "<tr><td>New York</td><td>1456081.7276417417</td></tr>",
                            "<tr><td>Portland</td><td>1287992.6116839212</td></tr>",
                            "</table>"
                        ]
                    }
                }
            ],
            "execution_count": 1
        },
        {
            "cell_type": "markdown",
            "source": [
                "Data shows that **Seattle** is the city with the **highest revenue** in **2022** from **Organic** avocado varieties (1,991,402,6029253171).\n",
                "\n",
                "The highest revenue in the last 3 years is concentrated in:\n",
                "\n",
                "- **New York**\n",
                "- **Los Angeles**\n",
                "- **San Francisco**\n",
                "- **Seattle**\n",
                "- **Portland**\n",
                "\n",
                "**From here, we have a basis to consider choosing one of these cities when we want to participate in the avocado market in the US.**"
            ],
            "metadata": {
                "language": "sql",
                "azdata_cell_guid": "8b371e71-c25f-4aa3-8324-6dcd9d49cada"
            },
            "attachments": {}
        },
        {
            "cell_type": "markdown",
            "source": [
                "The data also shows revenue trends for each city over 3 years from **2020** to **2022**\n",
                "\n",
                "- **New York:** Revenue of **Organic** avocado varieties in **New York** in 2022 **decreased** by **46.9%** compared to 2020\n",
                "- **Los Angeles:** Revenue of **Organic** avocado varieties in **Los Angeles** in 2022 **increased** by **73.6%** compared to 2020\n",
                "- **San Francisco:** Revenue of **Organic** avocado varieties in **San Francisco** in 2022 **increased** by **1%** compared to 2020\n",
                "- **Seattle:** Revenue of **Organic** avocado varieties in **Seattle** in 2022 **increased** by **76.9%** compared to 2020\n",
                "\n",
                "With this changing trend, **Los Angeles** and **Seattle** are becoming the two cities with the most potential **Organic** avocado market in the US."
            ],
            "metadata": {
                "language": "sql",
                "azdata_cell_guid": "885488f3-1250-4c4e-81f3-cc04c00b1522"
            },
            "attachments": {}
        },
        {
            "cell_type": "code",
            "source": [
                "SELECT DISTINCT TOP(5) geography,\r\n",
                "      AVG(average_price)*SUM(_4046) as _Rev_4046,\r\n",
                "\t  AVG(average_price)*SUM(_4225) as _Rev_4225,\r\n",
                "      AVG(average_price)*SUM(_4770) as _Rev_4770,\r\n",
                "\t  AVG(average_price)*SUM(total_volume) Total_Revenue\r\n",
                "FROM avocado_detail\r\n",
                "WHERE type ='Organic' AND year ='2022'\r\n",
                "GROUP BY geography,year,type\r\n",
                "ORDER BY 5 DESC"
            ],
            "metadata": {
                "language": "sql",
                "azdata_cell_guid": "6095316f-7b64-48f6-966b-dd7a52ce8d5c"
            },
            "outputs": [
                {
                    "output_type": "display_data",
                    "data": {
                        "text/html": "(5 rows affected)"
                    },
                    "metadata": {}
                },
                {
                    "output_type": "display_data",
                    "data": {
                        "text/html": "Total execution time: 00:00:00.020"
                    },
                    "metadata": {}
                },
                {
                    "output_type": "execute_result",
                    "metadata": {
                        "azdata_chartOptions": {
                            "type": "bar",
                            "dataDirection": "horizontal",
                            "columnsAsLabels": true,
                            "labelFirstColumn": true,
                            "legendPosition": "top"
                        }
                    },
                    "execution_count": 2,
                    "data": {
                        "application/vnd.dataresource+json": {
                            "schema": {
                                "fields": [
                                    {
                                        "name": "geography"
                                    },
                                    {
                                        "name": "_Rev_4046"
                                    },
                                    {
                                        "name": "_Rev_4225"
                                    },
                                    {
                                        "name": "_Rev_4770"
                                    },
                                    {
                                        "name": "Total_Revenue"
                                    }
                                ]
                            },
                            "data": [
                                {
                                    "0": "Seattle",
                                    "1": "247430.80103791953",
                                    "2": "820391.5314642646",
                                    "3": "923580.2707311945",
                                    "4": "1991402.6029253171"
                                },
                                {
                                    "0": "Los Angeles",
                                    "1": "608220.5729578346",
                                    "2": "122692.96842959589",
                                    "3": "1150708.3551096295",
                                    "4": "1881621.85192562"
                                },
                                {
                                    "0": "San Francisco",
                                    "1": "482085.12886772",
                                    "2": "527888.2068306269",
                                    "3": "559118.2228378841",
                                    "4": "1569091.5643661944"
                                },
                                {
                                    "0": "New York",
                                    "1": "1085177.1712927083",
                                    "2": "211890.55612076455",
                                    "3": "159013.98738991335",
                                    "4": "1456081.7276417417"
                                },
                                {
                                    "0": "Portland",
                                    "1": "122238.93185751402",
                                    "2": "627596.6598325882",
                                    "3": "538157.0130035621",
                                    "4": "1287992.6116839212"
                                }
                            ]
                        },
                        "text/html": [
                            "<table>",
                            "<tr><th>geography</th><th>_Rev_4046</th><th>_Rev_4225</th><th>_Rev_4770</th><th>Total_Revenue</th></tr>",
                            "<tr><td>Seattle</td><td>247430.80103791953</td><td>820391.5314642646</td><td>923580.2707311945</td><td>1991402.6029253171</td></tr>",
                            "<tr><td>Los Angeles</td><td>608220.5729578346</td><td>122692.96842959589</td><td>1150708.3551096295</td><td>1881621.85192562</td></tr>",
                            "<tr><td>San Francisco</td><td>482085.12886772</td><td>527888.2068306269</td><td>559118.2228378841</td><td>1569091.5643661944</td></tr>",
                            "<tr><td>New York</td><td>1085177.1712927083</td><td>211890.55612076455</td><td>159013.98738991335</td><td>1456081.7276417417</td></tr>",
                            "<tr><td>Portland</td><td>122238.93185751402</td><td>627596.6598325882</td><td>538157.0130035621</td><td>1287992.6116839212</td></tr>",
                            "</table>"
                        ]
                    }
                }
            ],
            "execution_count": 2
        },
        {
            "cell_type": "markdown",
            "source": [
                "The advantage of each city is evident in the revenue of each type of avocado:\n",
                "\n",
                "- **Seattle:** Take advantage with sales from 2 types of avocados **4225 Org**, **4770 Org** in **2022.** \n",
                "- **Los Angeles:** Focus on revenue from 2 types of avocados **4770 Org**, **4046 Org** in **2022.** \n",
                "- **New York:** Having a competitive advantage from the **4046 Org** avocado in **2022**\n",
                "- **San Francisco:** Focusing on evenly developing sales of all 3 Org avocados in **2022**, but not really prominent, dominating in any avocado type."
            ],
            "metadata": {
                "language": "sql",
                "azdata_cell_guid": "54f1120b-f9eb-43f5-aec1-8729f45cb034"
            },
            "attachments": {}
        },
        {
            "cell_type": "markdown",
            "source": [
                "## **2\\. VOLUME**"
            ],
            "metadata": {
                "language": "sql",
                "azdata_cell_guid": "e2144d15-1b59-4d5b-80a1-a89154c38cf2"
            },
            "attachments": {}
        },
        {
            "cell_type": "markdown",
            "source": [
                "**Top 5 cities with the highest sales volumes in Organic avocado varieties from 2020 - 2022**"
            ],
            "metadata": {
                "language": "sql",
                "azdata_cell_guid": "cc1f696c-e74e-49bc-9541-d4f7b3dbfff7"
            },
            "attachments": {}
        },
        {
            "cell_type": "code",
            "source": [
                "SELECT DISTINCT TOP(5) geography, SUM(total_volume) AS Total_alr_sell FROM avocado_detail\r\n",
                "WHERE type = 'Organic' AND year ='2020'\r\n",
                "GROUP BY geography,type,year\r\n",
                "ORDER BY Total_alr_sell DESC\r\n",
                "\r\n",
                "SELECT DISTINCT TOP(5) geography, SUM(total_volume) AS Total_alr_sell FROM avocado_detail\r\n",
                "WHERE type = 'Organic' AND year ='2021'\r\n",
                "GROUP BY geography,type,year\r\n",
                "ORDER BY Total_alr_sell DESC\r\n",
                "\r\n",
                "SELECT DISTINCT TOP(5) geography, SUM(total_volume) AS Total_alr_sell FROM avocado_detail\r\n",
                "WHERE type = 'Organic' AND year ='2022'\r\n",
                "GROUP BY geography,type,year\r\n",
                "ORDER BY Total_alr_sell DESC"
            ],
            "metadata": {
                "language": "sql",
                "azdata_cell_guid": "4e9edc51-bc3d-4750-ae74-02bae2ac06c7"
            },
            "outputs": [
                {
                    "output_type": "display_data",
                    "data": {
                        "text/html": "(5 rows affected)"
                    },
                    "metadata": {}
                },
                {
                    "output_type": "display_data",
                    "data": {
                        "text/html": "(5 rows affected)"
                    },
                    "metadata": {}
                },
                {
                    "output_type": "display_data",
                    "data": {
                        "text/html": "(5 rows affected)"
                    },
                    "metadata": {}
                },
                {
                    "output_type": "display_data",
                    "data": {
                        "text/html": "Total execution time: 00:00:00.058"
                    },
                    "metadata": {}
                },
                {
                    "output_type": "execute_result",
                    "metadata": {},
                    "execution_count": 3,
                    "data": {
                        "application/vnd.dataresource+json": {
                            "schema": {
                                "fields": [
                                    {
                                        "name": "geography"
                                    },
                                    {
                                        "name": "Total_alr_sell"
                                    }
                                ]
                            },
                            "data": [
                                {
                                    "0": "New York",
                                    "1": "1548170.396484375"
                                },
                                {
                                    "0": "San Francisco",
                                    "1": "789986.859375"
                                },
                                {
                                    "0": "Los Angeles",
                                    "1": "649076.7290039062"
                                },
                                {
                                    "0": "Denver",
                                    "1": "614721.6684570312"
                                },
                                {
                                    "0": "Seattle",
                                    "1": "596985.41796875"
                                }
                            ]
                        },
                        "text/html": [
                            "<table>",
                            "<tr><th>geography</th><th>Total_alr_sell</th></tr>",
                            "<tr><td>New York</td><td>1548170.396484375</td></tr>",
                            "<tr><td>San Francisco</td><td>789986.859375</td></tr>",
                            "<tr><td>Los Angeles</td><td>649076.7290039062</td></tr>",
                            "<tr><td>Denver</td><td>614721.6684570312</td></tr>",
                            "<tr><td>Seattle</td><td>596985.41796875</td></tr>",
                            "</table>"
                        ]
                    }
                },
                {
                    "output_type": "execute_result",
                    "metadata": {},
                    "execution_count": 3,
                    "data": {
                        "application/vnd.dataresource+json": {
                            "schema": {
                                "fields": [
                                    {
                                        "name": "geography"
                                    },
                                    {
                                        "name": "Total_alr_sell"
                                    }
                                ]
                            },
                            "data": [
                                {
                                    "0": "New York",
                                    "1": "797314"
                                },
                                {
                                    "0": "San Francisco",
                                    "1": "682602.5112304688"
                                },
                                {
                                    "0": "Seattle",
                                    "1": "441434.2998046875"
                                },
                                {
                                    "0": "Sacramento",
                                    "1": "424909.66845703125"
                                },
                                {
                                    "0": "Los Angeles",
                                    "1": "371814.8408203125"
                                }
                            ]
                        },
                        "text/html": [
                            "<table>",
                            "<tr><th>geography</th><th>Total_alr_sell</th></tr>",
                            "<tr><td>New York</td><td>797314</td></tr>",
                            "<tr><td>San Francisco</td><td>682602.5112304688</td></tr>",
                            "<tr><td>Seattle</td><td>441434.2998046875</td></tr>",
                            "<tr><td>Sacramento</td><td>424909.66845703125</td></tr>",
                            "<tr><td>Los Angeles</td><td>371814.8408203125</td></tr>",
                            "</table>"
                        ]
                    }
                },
                {
                    "output_type": "execute_result",
                    "metadata": {},
                    "execution_count": 3,
                    "data": {
                        "application/vnd.dataresource+json": {
                            "schema": {
                                "fields": [
                                    {
                                        "name": "geography"
                                    },
                                    {
                                        "name": "Total_alr_sell"
                                    }
                                ]
                            },
                            "data": [
                                {
                                    "0": "Los Angeles",
                                    "1": "957568.3774414062"
                                },
                                {
                                    "0": "Seattle",
                                    "1": "853059.8505859375"
                                },
                                {
                                    "0": "New York",
                                    "1": "791762.515625"
                                },
                                {
                                    "0": "San Francisco",
                                    "1": "742494.8708496094"
                                },
                                {
                                    "0": "Denver",
                                    "1": "579511.9206542969"
                                }
                            ]
                        },
                        "text/html": [
                            "<table>",
                            "<tr><th>geography</th><th>Total_alr_sell</th></tr>",
                            "<tr><td>Los Angeles</td><td>957568.3774414062</td></tr>",
                            "<tr><td>Seattle</td><td>853059.8505859375</td></tr>",
                            "<tr><td>New York</td><td>791762.515625</td></tr>",
                            "<tr><td>San Francisco</td><td>742494.8708496094</td></tr>",
                            "<tr><td>Denver</td><td>579511.9206542969</td></tr>",
                            "</table>"
                        ]
                    }
                }
            ],
            "execution_count": 3
        },
        {
            "cell_type": "markdown",
            "source": [
                "In terms of output, it also shows that **Seattle** and **Los Angeles** are really the two dominant cities \n",
                "\n",
                "**Seattle :** From 2020 to 2022, the production **increase** to **42.9%** \n",
                "\n",
                "**Los Angeles:** From 2020 to 2022 also **increase** in **Organic** avocado production by **47.5%** \n",
                "\n",
                "Meanwhile, the other top producing cities, as of 2022, have all experienced a decline in the sales of **Organic** avocados. \n",
                "\n",
                "Although New York and San Francisco are the two cities with the highest sales volume in 2020-2021, by 2022, Seattle and Los Angeles will show themselves as the two cities with the highest growth rates."
            ],
            "metadata": {
                "language": "sql",
                "azdata_cell_guid": "76c487ad-c14f-4c4c-9b5c-9b220c3bd61e"
            },
            "attachments": {}
        },
        {
            "cell_type": "markdown",
            "source": [
                "## **3\\. PRICE**"
            ],
            "metadata": {
                "language": "sql",
                "azdata_cell_guid": "65019922-12ad-43d5-a1e8-6114b8849279"
            },
            "attachments": {}
        },
        {
            "cell_type": "markdown",
            "source": [
                "**Top 5 cities with the highest selling price in Organic avocado varieties from 2022**"
            ],
            "metadata": {
                "language": "sql",
                "azdata_cell_guid": "c29f0c56-298c-448e-a373-f07752e73387"
            },
            "attachments": {}
        },
        {
            "cell_type": "code",
            "source": [
                "SELECT  DISTINCT TOP(5)(geography) ,AVG(average_price) AS price FROM avocado_notUS_2022\r\n",
                "WHERE year = '2022' AND type ='Organic'--organic/conventional--\r\n",
                "GROUP BY geography,type,year\r\n",
                "ORDER BY 2 DESC"
            ],
            "metadata": {
                "language": "sql",
                "azdata_cell_guid": "8cb220fb-9b48-4863-8a54-771cddc7c940"
            },
            "outputs": [
                {
                    "output_type": "display_data",
                    "data": {
                        "text/html": "(5 rows affected)"
                    },
                    "metadata": {}
                },
                {
                    "output_type": "display_data",
                    "data": {
                        "text/html": "Total execution time: 00:00:00.025"
                    },
                    "metadata": {}
                },
                {
                    "output_type": "execute_result",
                    "metadata": {},
                    "execution_count": 4,
                    "data": {
                        "application/vnd.dataresource+json": {
                            "schema": {
                                "fields": [
                                    {
                                        "name": "geography"
                                    },
                                    {
                                        "name": "price"
                                    }
                                ]
                            },
                            "data": [
                                {
                                    "0": "Boise",
                                    "1": "2.4311538453285513"
                                },
                                {
                                    "0": "Spokane",
                                    "1": "2.4223076701164246"
                                },
                                {
                                    "0": "Portland",
                                    "1": "2.3374999944980326"
                                },
                                {
                                    "0": "Seattle",
                                    "1": "2.334423078940465"
                                },
                                {
                                    "0": "Northern New England",
                                    "1": "2.18211537370315"
                                }
                            ]
                        },
                        "text/html": [
                            "<table>",
                            "<tr><th>geography</th><th>price</th></tr>",
                            "<tr><td>Boise</td><td>2.4311538453285513</td></tr>",
                            "<tr><td>Spokane</td><td>2.4223076701164246</td></tr>",
                            "<tr><td>Portland</td><td>2.3374999944980326</td></tr>",
                            "<tr><td>Seattle</td><td>2.334423078940465</td></tr>",
                            "<tr><td>Northern New England</td><td>2.18211537370315</td></tr>",
                            "</table>"
                        ]
                    }
                }
            ],
            "execution_count": 4
        },
        {
            "cell_type": "markdown",
            "source": [
                "**Seattle** is one of 5 cities with the **highest selling price** of **Organic** avocados in the US in **2022.**"
            ],
            "metadata": {
                "language": "sql",
                "azdata_cell_guid": "02763722-6114-41ce-982e-987564eb0954"
            },
            "attachments": {}
        },
        {
            "cell_type": "code",
            "source": [
                "SELECT  year ,AVG(average_price) AS price FROM avocado_notUS_2022\r\n",
                "WHERE geography ='Seattle' AND type ='Organic'--organic/conventional--\r\n",
                "GROUP BY geography,type,year\r\n",
                "ORDER BY 1 ASC"
            ],
            "metadata": {
                "language": "sql",
                "azdata_cell_guid": "3c300745-9689-4210-94df-7c70ff5debd5"
            },
            "outputs": [
                {
                    "output_type": "display_data",
                    "data": {
                        "text/html": "(8 rows affected)"
                    },
                    "metadata": {}
                },
                {
                    "output_type": "display_data",
                    "data": {
                        "text/html": "Total execution time: 00:00:00.021"
                    },
                    "metadata": {}
                },
                {
                    "output_type": "execute_result",
                    "metadata": {
                        "azdata_chartOptions": {
                            "type": "line",
                            "dataDirection": "vertical",
                            "columnsAsLabels": true,
                            "labelFirstColumn": false,
                            "legendPosition": "top",
                            "dataType": "number"
                        }
                    },
                    "execution_count": 5,
                    "data": {
                        "application/vnd.dataresource+json": {
                            "schema": {
                                "fields": [
                                    {
                                        "name": "year"
                                    },
                                    {
                                        "name": "price"
                                    }
                                ]
                            },
                            "data": [
                                {
                                    "0": "2015",
                                    "1": "1.7099999968822186"
                                },
                                {
                                    "0": "2016",
                                    "1": "1.5734615406164756"
                                },
                                {
                                    "0": "2017",
                                    "1": "1.8898113100033886"
                                },
                                {
                                    "0": "2018",
                                    "1": "1.7744897968915043"
                                },
                                {
                                    "0": "2019",
                                    "1": "1.9605769308713765"
                                },
                                {
                                    "0": "2020",
                                    "1": "1.8858333304524422"
                                },
                                {
                                    "0": "2021",
                                    "1": "2.1018750021855035"
                                },
                                {
                                    "0": "2022",
                                    "1": "2.334423078940465"
                                }
                            ]
                        },
                        "text/html": [
                            "<table>",
                            "<tr><th>year</th><th>price</th></tr>",
                            "<tr><td>2015</td><td>1.7099999968822186</td></tr>",
                            "<tr><td>2016</td><td>1.5734615406164756</td></tr>",
                            "<tr><td>2017</td><td>1.8898113100033886</td></tr>",
                            "<tr><td>2018</td><td>1.7744897968915043</td></tr>",
                            "<tr><td>2019</td><td>1.9605769308713765</td></tr>",
                            "<tr><td>2020</td><td>1.8858333304524422</td></tr>",
                            "<tr><td>2021</td><td>2.1018750021855035</td></tr>",
                            "<tr><td>2022</td><td>2.334423078940465</td></tr>",
                            "</table>"
                        ]
                    }
                }
            ],
            "execution_count": 5
        },
        {
            "cell_type": "markdown",
            "source": [
                "In more detail, the data also shows that the price of **Organic** avocados in **Seattle** has increased continuously for 3 years from **2020 to 2022**. \n",
                "\n",
                "This also means that there is a scarcity of **Organic** avocado in **Seattle**, the supply of **Organic** avocado here is not enough to provide for the local people, leading to the price of this avocado variety increasing continuously during the past 3 years.\n",
                "\n",
                "This is also an opportunity for businesses to participate in the Organic avocado market here."
            ],
            "metadata": {
                "language": "sql",
                "azdata_cell_guid": "7124e64f-d79a-4c3b-8871-d8447ebbb0a2"
            },
            "attachments": {}
        }
    ]
}