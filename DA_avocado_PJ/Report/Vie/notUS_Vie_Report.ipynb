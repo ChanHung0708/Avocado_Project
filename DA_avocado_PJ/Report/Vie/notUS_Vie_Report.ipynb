{
    "metadata": {
        "kernelspec": {
            "name": "SQL",
            "display_name": "SQL",
            "language": "sql"
        },
        "language_info": {
            "name": "sql",
            "version": ""
        }
    },
    "nbformat_minor": 2,
    "nbformat": 4,
    "cells": [
        {
            "cell_type": "markdown",
            "source": [
                "# **AVOCADO DATA PROJECT**\n",
                "\n",
                "## **Analyze and give direction to businesses through prices, regions, and sales volume.**"
            ],
            "metadata": {
                "azdata_cell_guid": "e354bbae-c44c-4a74-a707-7bae49ca7136"
            },
            "attachments": {}
        },
        {
            "cell_type": "markdown",
            "source": [
                "### **ANALYSIS BASED ON #avocado\\_detail dataset**"
            ],
            "metadata": {
                "azdata_cell_guid": "3e0bffbe-b4f9-4caa-99c4-e98a9e568ec6"
            },
            "attachments": {}
        },
        {
            "cell_type": "markdown",
            "source": [
                "Trong phân tích trước đó \"**Overall analysis of avocado market in the US from 2015 to 2022\".** Đã xác định được thị trường bơ tại Mỹ vừa trải qua khủng hoảng nghiêm trọng thể hiện ở một số mặt như Sản lượng bán ra giảm, Doanh thu giảm. Tuy nhiên từ năm 2021 - 2022 thị trường bơ tại Mỹ đã có dấu hiệu khôi phục trở lại. \n",
                "\n",
                "Đặc biệt, doanh thu từ giống bơ **Organic** đang có tốc độ tăng mạnh trở lại, từ phân tích trước cũng đã chỉ ra xu hướng ưa chuộng loại bơ \\_**4770 Organic** của khách hàng tại Mỹ. Do đó trong phân tích này chúng ta sẽ tập trung sâu hơn vào loại bơ này đồng thời bài phân tích này sẽ sử dụng mốc là năm 2020 là năm khủng hoảng trên toàn thế giới để so sánh mức độ phục hồi sau khủng hoảng giữa các khu vực tại Mỹ."
            ],
            "metadata": {
                "azdata_cell_guid": "28eb1721-b75e-4b95-af06-c52a7bf786e7"
            },
            "attachments": {}
        },
        {
            "cell_type": "markdown",
            "source": [
                "## 1\\. **Revenue**"
            ],
            "metadata": {
                "azdata_cell_guid": "caf575d2-e34c-44d1-843b-acfccdc0bbe7"
            },
            "attachments": {}
        },
        {
            "cell_type": "markdown",
            "source": [
                "**_Top 5 thành phố có doanh thu cao nhất từ giống bơ Organic trong 3 năm từ 2020 - 2022_**"
            ],
            "metadata": {
                "azdata_cell_guid": "5df9beb7-2d40-4b7f-b1cf-eb74908ab654"
            },
            "attachments": {}
        },
        {
            "cell_type": "code",
            "source": [
                "--Top 5 city have revenue best in 2020 - 2022 \r\n",
                "--2020\r\n",
                "SELECT DISTINCT TOP(5) geography,\r\n",
                "      AVG(average_price)*SUM(total_volume) as _Revenue2020\r\n",
                "FROM avocado_detail\r\n",
                "WHERE type ='Organic' AND year ='2020'\r\n",
                "GROUP BY geography,year,type\r\n",
                "ORDER BY 2 DESC\r\n",
                "--2021\r\n",
                "SELECT DISTINCT TOP(5) geography,\r\n",
                "      AVG(average_price)*SUM(total_volume) as _Revenue2021\r\n",
                "FROM avocado_detail\r\n",
                "WHERE type ='Organic' AND year ='2021'\r\n",
                "GROUP BY geography,year,type\r\n",
                "ORDER BY 2 DESC\r\n",
                "--2022\r\n",
                "SELECT DISTINCT TOP(5) geography,\r\n",
                "      AVG(average_price)*SUM(total_volume) as _Revenue2022\r\n",
                "FROM avocado_detail\r\n",
                "WHERE type ='Organic' AND year ='2022'\r\n",
                "GROUP BY geography,year,type\r\n",
                "ORDER BY 2 DESC\r\n",
                "\r\n",
                "\r\n",
                ""
            ],
            "metadata": {
                "azdata_cell_guid": "0ccbe236-4ff0-49f5-b7cd-875a29a5481a",
                "language": "sql",
                "tags": [
                    "hide_input"
                ]
            },
            "outputs": [
                {
                    "output_type": "display_data",
                    "data": {
                        "text/html": "(5 rows affected)"
                    },
                    "metadata": {}
                },
                {
                    "output_type": "display_data",
                    "data": {
                        "text/html": "(5 rows affected)"
                    },
                    "metadata": {}
                },
                {
                    "output_type": "display_data",
                    "data": {
                        "text/html": "(5 rows affected)"
                    },
                    "metadata": {}
                },
                {
                    "output_type": "display_data",
                    "data": {
                        "text/html": "Total execution time: 00:00:00.042"
                    },
                    "metadata": {}
                },
                {
                    "output_type": "execute_result",
                    "execution_count": 9,
                    "data": {
                        "application/vnd.dataresource+json": {
                            "schema": {
                                "fields": [
                                    {
                                        "name": "geography"
                                    },
                                    {
                                        "name": "_Revenue2020"
                                    }
                                ]
                            },
                            "data": [
                                {
                                    "0": "New York",
                                    "1": "2743164.4235777054"
                                },
                                {
                                    "0": "San Francisco",
                                    "1": "1552982.4993281683"
                                },
                                {
                                    "0": "Seattle",
                                    "1": "1125814.998999551"
                                },
                                {
                                    "0": "Los Angeles",
                                    "1": "1083958.141821162"
                                },
                                {
                                    "0": "Denver",
                                    "1": "802595.9778296074"
                                }
                            ]
                        },
                        "text/html": "<table><tr><th>geography</th><th>_Revenue2020</th></tr><tr><td>New York</td><td>2743164.4235777054</td></tr><tr><td>San Francisco</td><td>1552982.4993281683</td></tr><tr><td>Seattle</td><td>1125814.998999551</td></tr><tr><td>Los Angeles</td><td>1083958.141821162</td></tr><tr><td>Denver</td><td>802595.9778296074</td></tr></table>"
                    },
                    "metadata": {}
                },
                {
                    "output_type": "execute_result",
                    "execution_count": 9,
                    "data": {
                        "application/vnd.dataresource+json": {
                            "schema": {
                                "fields": [
                                    {
                                        "name": "geography"
                                    },
                                    {
                                        "name": "_Revenue2021"
                                    }
                                ]
                            },
                            "data": [
                                {
                                    "0": "New York",
                                    "1": "1393970.6446006298"
                                },
                                {
                                    "0": "San Francisco",
                                    "1": "1305903.9214317764"
                                },
                                {
                                    "0": "Seattle",
                                    "1": "927839.7198667338"
                                },
                                {
                                    "0": "Sacramento",
                                    "1": "752532.728377774"
                                },
                                {
                                    "0": "Portland",
                                    "1": "698448.0352633409"
                                }
                            ]
                        },
                        "text/html": "<table><tr><th>geography</th><th>_Revenue2021</th></tr><tr><td>New York</td><td>1393970.6446006298</td></tr><tr><td>San Francisco</td><td>1305903.9214317764</td></tr><tr><td>Seattle</td><td>927839.7198667338</td></tr><tr><td>Sacramento</td><td>752532.728377774</td></tr><tr><td>Portland</td><td>698448.0352633409</td></tr></table>"
                    },
                    "metadata": {}
                },
                {
                    "output_type": "execute_result",
                    "execution_count": 9,
                    "data": {
                        "application/vnd.dataresource+json": {
                            "schema": {
                                "fields": [
                                    {
                                        "name": "geography"
                                    },
                                    {
                                        "name": "_Revenue2022"
                                    }
                                ]
                            },
                            "data": [
                                {
                                    "0": "Seattle",
                                    "1": "1991402.6029253171"
                                },
                                {
                                    "0": "Los Angeles",
                                    "1": "1881621.85192562"
                                },
                                {
                                    "0": "San Francisco",
                                    "1": "1569091.5643661944"
                                },
                                {
                                    "0": "New York",
                                    "1": "1456081.7276417417"
                                },
                                {
                                    "0": "Portland",
                                    "1": "1287992.6116839212"
                                }
                            ]
                        },
                        "text/html": "<table><tr><th>geography</th><th>_Revenue2022</th></tr><tr><td>Seattle</td><td>1991402.6029253171</td></tr><tr><td>Los Angeles</td><td>1881621.85192562</td></tr><tr><td>San Francisco</td><td>1569091.5643661944</td></tr><tr><td>New York</td><td>1456081.7276417417</td></tr><tr><td>Portland</td><td>1287992.6116839212</td></tr></table>"
                    },
                    "metadata": {}
                }
            ],
            "execution_count": 9
        },
        {
            "cell_type": "markdown",
            "source": [
                "Dữ liệu cho thấy **Seattle** là thành phố có doanh thu cao nhất trong năm 2022 từ giống bơ **Organic** _(1.991.402,6029253171)._\n",
                "\n",
                "_Doanh thu cao nhất trong 3 năm trở lại đây tập trung ở một số thành phố lớn như:_\n",
                "\n",
                "- **New York**\n",
                "- **Los Angeles**\n",
                "- **San Francisco**\n",
                "- **Seattle**\n",
                "- **Portland**\n",
                "\n",
                "**_Từ đây ta có cơ sở để cân nhắc chọn một trong những thành phố này khi muốn tham gia vào thị trường bơ tại Mỹ._**"
            ],
            "metadata": {
                "language": "sql",
                "azdata_cell_guid": "9fca1524-913d-43c6-822d-6a099290c5cb"
            },
            "attachments": {}
        },
        {
            "cell_type": "markdown",
            "source": [
                "Dữ liệu cũng cho thấy xu hướng thay đổi doanh thu của từng thành phố trong 3 năm từ 2020 - 2022\n",
                "\n",
                "- **New York:** Doanh thu từ giống bơ Organic tại New York của năm 2022 **giảm 46.9%** so với năm 2020\n",
                "- **Los Angeles:** Doanh thu từ giống bơ Organic tại Los Angeles của năm 2022 **tăng 73.6%** so với năm 2020\n",
                "- **San Francisco:** Doanh thu từ giống bơ Organic tại San Francisco của năm 2022 **tăng 1%** so với năm 2020\n",
                "- **Seattle:** Doanh thu từ giống bơ Organic tại Seattle của năm 2022 **tăng 76.9%** so với năm 2020\n",
                "\n",
                "Với xu hướng thay đổi này **Los Angeles** và **Seattle** đang trở thành 2 thành phố có thị trường bơ Organic tiềm năng nhất tại Mỹ."
            ],
            "metadata": {
                "language": "sql",
                "azdata_cell_guid": "89dbac31-ab3c-4dd7-9ec9-0a4adde132f9"
            },
            "attachments": {}
        },
        {
            "cell_type": "code",
            "source": [
                "SELECT DISTINCT TOP(5) geography,\r\n",
                "      AVG(average_price)*SUM(_4046) as _Rev_4046,\r\n",
                "\t  AVG(average_price)*SUM(_4225) as _Rev_4225,\r\n",
                "      AVG(average_price)*SUM(_4770) as _Rev_4770,\r\n",
                "\t  AVG(average_price)*SUM(total_volume) Total_Revenue\r\n",
                "FROM avocado_detail\r\n",
                "WHERE type ='Organic' AND year ='2022'\r\n",
                "GROUP BY geography,year,type\r\n",
                "ORDER BY 5 DESC"
            ],
            "metadata": {
                "language": "sql",
                "azdata_cell_guid": "7c58fef4-01a6-43e2-8082-d440718498f2",
                "tags": [
                    "hide_input"
                ]
            },
            "outputs": [
                {
                    "output_type": "display_data",
                    "data": {
                        "text/html": "(5 rows affected)"
                    },
                    "metadata": {}
                },
                {
                    "output_type": "display_data",
                    "data": {
                        "text/html": "Total execution time: 00:00:00.024"
                    },
                    "metadata": {}
                },
                {
                    "output_type": "execute_result",
                    "execution_count": 10,
                    "data": {
                        "application/vnd.dataresource+json": {
                            "schema": {
                                "fields": [
                                    {
                                        "name": "geography"
                                    },
                                    {
                                        "name": "_Rev_4046"
                                    },
                                    {
                                        "name": "_Rev_4225"
                                    },
                                    {
                                        "name": "_Rev_4770"
                                    },
                                    {
                                        "name": "Total_Revenue"
                                    }
                                ]
                            },
                            "data": [
                                {
                                    "0": "Seattle",
                                    "1": "247430.80103791953",
                                    "2": "820391.5314642646",
                                    "3": "923580.2707311945",
                                    "4": "1991402.6029253171"
                                },
                                {
                                    "0": "Los Angeles",
                                    "1": "608220.5729578346",
                                    "2": "122692.96842959589",
                                    "3": "1150708.3551096295",
                                    "4": "1881621.85192562"
                                },
                                {
                                    "0": "San Francisco",
                                    "1": "482085.12886772",
                                    "2": "527888.2068306269",
                                    "3": "559118.2228378841",
                                    "4": "1569091.5643661944"
                                },
                                {
                                    "0": "New York",
                                    "1": "1085177.1712927083",
                                    "2": "211890.55612076455",
                                    "3": "159013.98738991335",
                                    "4": "1456081.7276417417"
                                },
                                {
                                    "0": "Portland",
                                    "1": "122238.93185751402",
                                    "2": "627596.6598325882",
                                    "3": "538157.0130035621",
                                    "4": "1287992.6116839212"
                                }
                            ]
                        },
                        "text/html": "<table><tr><th>geography</th><th>_Rev_4046</th><th>_Rev_4225</th><th>_Rev_4770</th><th>Total_Revenue</th></tr><tr><td>Seattle</td><td>247430.80103791953</td><td>820391.5314642646</td><td>923580.2707311945</td><td>1991402.6029253171</td></tr><tr><td>Los Angeles</td><td>608220.5729578346</td><td>122692.96842959589</td><td>1150708.3551096295</td><td>1881621.85192562</td></tr><tr><td>San Francisco</td><td>482085.12886772</td><td>527888.2068306269</td><td>559118.2228378841</td><td>1569091.5643661944</td></tr><tr><td>New York</td><td>1085177.1712927083</td><td>211890.55612076455</td><td>159013.98738991335</td><td>1456081.7276417417</td></tr><tr><td>Portland</td><td>122238.93185751402</td><td>627596.6598325882</td><td>538157.0130035621</td><td>1287992.6116839212</td></tr></table>"
                    },
                    "metadata": {
                        "azdata_chartOptions": {
                            "type": "bar",
                            "dataDirection": "horizontal",
                            "columnsAsLabels": true,
                            "labelFirstColumn": true,
                            "legendPosition": "top"
                        }
                    }
                }
            ],
            "execution_count": 10
        },
        {
            "cell_type": "markdown",
            "source": [
                "Lợi thế của từng thành phố thể hiện rõ rệt qua doanh thu của từng loại bơ:\n",
                "\n",
                "**Seattle:** Chiếm lợi thế với doanh thu từ 2 loại bơ 4225 Org, 4770 Org trong năm 2022.\n",
                "\n",
                "**Los Angeles:** Tập trung vào doanh thu từ 2 loại bơ 4770 Org, 4046 Org trong năm 2022.\n",
                "\n",
                "**New York:** Lại có lợi thế cạnh tranh từ loại bơ 4046 Org trong năm 2022.\n",
                "\n",
                "**San Francisco:** Tập trung vào phát triển đồng đều doanh thu của cả 3 loại bơ Org trong năm 2022 tuy nhiên lại không thực sự nổi bật, chiếm ưu thế ở loại bơ nào."
            ],
            "metadata": {
                "language": "sql",
                "azdata_cell_guid": "082816f3-6dda-4dad-b4ef-54548355eb4c"
            },
            "attachments": {}
        },
        {
            "cell_type": "markdown",
            "source": [
                "## **2\\. VOLUME**"
            ],
            "metadata": {
                "language": "sql",
                "azdata_cell_guid": "311e700c-8bdc-40dc-8464-e2061d6954b6"
            },
            "attachments": {}
        },
        {
            "cell_type": "markdown",
            "source": [
                "**Top 5 thành phố có sản lượng bán ra cao nhất ở giống bơ Organic từ năm 2020 - 2022**"
            ],
            "metadata": {
                "language": "sql",
                "azdata_cell_guid": "c1156340-4ecd-45b8-8232-1ada200abf88"
            },
            "attachments": {}
        },
        {
            "cell_type": "code",
            "source": [
                "\r\n",
                "SELECT DISTINCT TOP(5) geography, SUM(total_volume) AS Total_alr_sell FROM avocado_detail\r\n",
                "WHERE type = 'Organic' AND year ='2020'\r\n",
                "GROUP BY geography,type,year\r\n",
                "ORDER BY Total_alr_sell DESC\r\n",
                "\r\n",
                "SELECT DISTINCT TOP(5) geography, SUM(total_volume) AS Total_alr_sell FROM avocado_detail\r\n",
                "WHERE type = 'Organic' AND year ='2021'\r\n",
                "GROUP BY geography,type,year\r\n",
                "ORDER BY Total_alr_sell DESC\r\n",
                "\r\n",
                "SELECT DISTINCT TOP(5) geography, SUM(total_volume) AS Total_alr_sell FROM avocado_detail\r\n",
                "WHERE type = 'Organic' AND year ='2022'\r\n",
                "GROUP BY geography,type,year\r\n",
                "ORDER BY Total_alr_sell DESC"
            ],
            "metadata": {
                "language": "sql",
                "azdata_cell_guid": "7763d72b-0be8-4669-a05c-74067fc66c87",
                "tags": []
            },
            "outputs": [
                {
                    "output_type": "display_data",
                    "data": {
                        "text/html": "(5 rows affected)"
                    },
                    "metadata": {}
                },
                {
                    "output_type": "display_data",
                    "data": {
                        "text/html": "(5 rows affected)"
                    },
                    "metadata": {}
                },
                {
                    "output_type": "display_data",
                    "data": {
                        "text/html": "(5 rows affected)"
                    },
                    "metadata": {}
                },
                {
                    "output_type": "display_data",
                    "data": {
                        "text/html": "Total execution time: 00:00:00.047"
                    },
                    "metadata": {}
                },
                {
                    "output_type": "execute_result",
                    "execution_count": 16,
                    "data": {
                        "application/vnd.dataresource+json": {
                            "schema": {
                                "fields": [
                                    {
                                        "name": "geography"
                                    },
                                    {
                                        "name": "Total_alr_sell"
                                    }
                                ]
                            },
                            "data": [
                                {
                                    "0": "New York",
                                    "1": "1548170.396484375"
                                },
                                {
                                    "0": "San Francisco",
                                    "1": "789986.859375"
                                },
                                {
                                    "0": "Los Angeles",
                                    "1": "649076.7290039062"
                                },
                                {
                                    "0": "Denver",
                                    "1": "614721.6684570312"
                                },
                                {
                                    "0": "Seattle",
                                    "1": "596985.41796875"
                                }
                            ]
                        },
                        "text/html": "<table><tr><th>geography</th><th>Total_alr_sell</th></tr><tr><td>New York</td><td>1548170.396484375</td></tr><tr><td>San Francisco</td><td>789986.859375</td></tr><tr><td>Los Angeles</td><td>649076.7290039062</td></tr><tr><td>Denver</td><td>614721.6684570312</td></tr><tr><td>Seattle</td><td>596985.41796875</td></tr></table>"
                    },
                    "metadata": {}
                },
                {
                    "output_type": "execute_result",
                    "execution_count": 16,
                    "data": {
                        "application/vnd.dataresource+json": {
                            "schema": {
                                "fields": [
                                    {
                                        "name": "geography"
                                    },
                                    {
                                        "name": "Total_alr_sell"
                                    }
                                ]
                            },
                            "data": [
                                {
                                    "0": "New York",
                                    "1": "797314"
                                },
                                {
                                    "0": "San Francisco",
                                    "1": "682602.5112304688"
                                },
                                {
                                    "0": "Seattle",
                                    "1": "441434.2998046875"
                                },
                                {
                                    "0": "Sacramento",
                                    "1": "424909.66845703125"
                                },
                                {
                                    "0": "Los Angeles",
                                    "1": "371814.8408203125"
                                }
                            ]
                        },
                        "text/html": "<table><tr><th>geography</th><th>Total_alr_sell</th></tr><tr><td>New York</td><td>797314</td></tr><tr><td>San Francisco</td><td>682602.5112304688</td></tr><tr><td>Seattle</td><td>441434.2998046875</td></tr><tr><td>Sacramento</td><td>424909.66845703125</td></tr><tr><td>Los Angeles</td><td>371814.8408203125</td></tr></table>"
                    },
                    "metadata": {}
                },
                {
                    "output_type": "execute_result",
                    "execution_count": 16,
                    "data": {
                        "application/vnd.dataresource+json": {
                            "schema": {
                                "fields": [
                                    {
                                        "name": "geography"
                                    },
                                    {
                                        "name": "Total_alr_sell"
                                    }
                                ]
                            },
                            "data": [
                                {
                                    "0": "Los Angeles",
                                    "1": "957568.3774414062"
                                },
                                {
                                    "0": "Seattle",
                                    "1": "853059.8505859375"
                                },
                                {
                                    "0": "New York",
                                    "1": "791762.515625"
                                },
                                {
                                    "0": "San Francisco",
                                    "1": "742494.8708496094"
                                },
                                {
                                    "0": "Denver",
                                    "1": "579511.9206542969"
                                }
                            ]
                        },
                        "text/html": "<table><tr><th>geography</th><th>Total_alr_sell</th></tr><tr><td>Los Angeles</td><td>957568.3774414062</td></tr><tr><td>Seattle</td><td>853059.8505859375</td></tr><tr><td>New York</td><td>791762.515625</td></tr><tr><td>San Francisco</td><td>742494.8708496094</td></tr><tr><td>Denver</td><td>579511.9206542969</td></tr></table>"
                    },
                    "metadata": {}
                }
            ],
            "execution_count": 16
        },
        {
            "cell_type": "markdown",
            "source": [
                "Về mặt sản lượng cũng cho thấy **Seattle** và **Los Angeles** thực sự là 2 thành phố chiếm ưu thế\n",
                "\n",
                "**Seattle :** Từ năm 2020 - 2022 đã đạt mức gia **tăng** sản lượng đến **42.9%**\n",
                "\n",
                "**Los Angeles:** Từ năm 2020 - 2022 cũng đạt mức gia **tăng** sản lượng bơ Organic đến **47.5%**\n",
                "\n",
                "Trong khi đó những thành phố có sản lượng top đầu khác, tính đến 2022 đều bị suy giảm về sản lượng bán ra của bơ Organic.\n",
                "\n",
                "Mặc dù **New York, San Francisco** là 2 thành phố có sản lượng bán ra cao nhất vào năm 2020 - 2021 tuy nhiên đến 2022 thì **Seattle** và **Los Angeles** lại cho thấy mình là 2 thành phố có tốc độ tăng trưởng cao nhất."
            ],
            "metadata": {
                "language": "sql",
                "azdata_cell_guid": "e970a30a-de4c-4811-abae-94cad6326eb0"
            },
            "attachments": {}
        },
        {
            "cell_type": "markdown",
            "source": [
                "## **3\\. PRICE**"
            ],
            "metadata": {
                "language": "sql",
                "azdata_cell_guid": "8dfa5261-62bf-45b6-8ffc-02d657ff2e60"
            },
            "attachments": {}
        },
        {
            "cell_type": "markdown",
            "source": [
                "**Top 5 thành phố có giá bán ra cao nhất ở giống bơ Organic từ trong năm 2022**"
            ],
            "metadata": {
                "language": "sql",
                "azdata_cell_guid": "5e5c0003-8f84-4cfc-b257-9ac1e2e79ca8"
            },
            "attachments": {}
        },
        {
            "cell_type": "code",
            "source": [
                "SELECT  DISTINCT TOP(5)(geography) ,AVG(average_price) AS price FROM avocado_notUS_2022\r\n",
                "WHERE year = '2022' AND type ='Organic'--organic/conventional--\r\n",
                "GROUP BY geography,type,year\r\n",
                "ORDER BY 2 DESC"
            ],
            "metadata": {
                "language": "sql",
                "azdata_cell_guid": "b74b4be8-01d9-4e93-99e6-dcecab3b2044"
            },
            "outputs": [
                {
                    "output_type": "display_data",
                    "data": {
                        "text/html": "(5 rows affected)"
                    },
                    "metadata": {}
                },
                {
                    "output_type": "display_data",
                    "data": {
                        "text/html": "Total execution time: 00:00:00.049"
                    },
                    "metadata": {}
                },
                {
                    "output_type": "execute_result",
                    "metadata": {},
                    "execution_count": 4,
                    "data": {
                        "application/vnd.dataresource+json": {
                            "schema": {
                                "fields": [
                                    {
                                        "name": "geography"
                                    },
                                    {
                                        "name": "price"
                                    }
                                ]
                            },
                            "data": [
                                {
                                    "0": "Boise",
                                    "1": "2.4311538453285513"
                                },
                                {
                                    "0": "Spokane",
                                    "1": "2.4223076701164246"
                                },
                                {
                                    "0": "Portland",
                                    "1": "2.3374999944980326"
                                },
                                {
                                    "0": "Seattle",
                                    "1": "2.334423078940465"
                                },
                                {
                                    "0": "Northern New England",
                                    "1": "2.18211537370315"
                                }
                            ]
                        },
                        "text/html": [
                            "<table>",
                            "<tr><th>geography</th><th>price</th></tr>",
                            "<tr><td>Boise</td><td>2.4311538453285513</td></tr>",
                            "<tr><td>Spokane</td><td>2.4223076701164246</td></tr>",
                            "<tr><td>Portland</td><td>2.3374999944980326</td></tr>",
                            "<tr><td>Seattle</td><td>2.334423078940465</td></tr>",
                            "<tr><td>Northern New England</td><td>2.18211537370315</td></tr>",
                            "</table>"
                        ]
                    }
                }
            ],
            "execution_count": 4
        },
        {
            "cell_type": "markdown",
            "source": [
                "**Seattle** là một trong những thành phố có giá bán ra của giống bơ **Organic** cao nhất tại Mỹ trong năm 2022."
            ],
            "metadata": {
                "language": "sql",
                "azdata_cell_guid": "57080858-cd29-4f37-9f40-34db3718cd6c"
            },
            "attachments": {}
        },
        {
            "cell_type": "code",
            "source": [
                "SELECT  year ,AVG(average_price) AS price FROM avocado_notUS_2022\r\n",
                "WHERE geography ='Seattle' AND type ='Organic'--organic/conventional--\r\n",
                "GROUP BY geography,type,year\r\n",
                "ORDER BY 1 ASC"
            ],
            "metadata": {
                "language": "sql",
                "azdata_cell_guid": "813553f7-2b5d-4ba9-9c4b-f2975c0de352"
            },
            "outputs": [
                {
                    "output_type": "display_data",
                    "data": {
                        "text/html": "(8 rows affected)"
                    },
                    "metadata": {}
                },
                {
                    "output_type": "display_data",
                    "data": {
                        "text/html": "Total execution time: 00:00:00.026"
                    },
                    "metadata": {}
                },
                {
                    "output_type": "execute_result",
                    "metadata": {
                        "azdata_chartOptions": {
                            "type": "line",
                            "dataDirection": "vertical",
                            "columnsAsLabels": true,
                            "labelFirstColumn": true,
                            "legendPosition": "top",
                            "dataType": "number"
                        }
                    },
                    "execution_count": 5,
                    "data": {
                        "application/vnd.dataresource+json": {
                            "schema": {
                                "fields": [
                                    {
                                        "name": "year"
                                    },
                                    {
                                        "name": "price"
                                    }
                                ]
                            },
                            "data": [
                                {
                                    "0": "2015",
                                    "1": "1.7099999968822186"
                                },
                                {
                                    "0": "2016",
                                    "1": "1.5734615406164756"
                                },
                                {
                                    "0": "2017",
                                    "1": "1.8898113100033886"
                                },
                                {
                                    "0": "2018",
                                    "1": "1.7744897968915043"
                                },
                                {
                                    "0": "2019",
                                    "1": "1.9605769308713765"
                                },
                                {
                                    "0": "2020",
                                    "1": "1.8858333304524422"
                                },
                                {
                                    "0": "2021",
                                    "1": "2.1018750021855035"
                                },
                                {
                                    "0": "2022",
                                    "1": "2.334423078940465"
                                }
                            ]
                        },
                        "text/html": [
                            "<table>",
                            "<tr><th>year</th><th>price</th></tr>",
                            "<tr><td>2015</td><td>1.7099999968822186</td></tr>",
                            "<tr><td>2016</td><td>1.5734615406164756</td></tr>",
                            "<tr><td>2017</td><td>1.8898113100033886</td></tr>",
                            "<tr><td>2018</td><td>1.7744897968915043</td></tr>",
                            "<tr><td>2019</td><td>1.9605769308713765</td></tr>",
                            "<tr><td>2020</td><td>1.8858333304524422</td></tr>",
                            "<tr><td>2021</td><td>2.1018750021855035</td></tr>",
                            "<tr><td>2022</td><td>2.334423078940465</td></tr>",
                            "</table>"
                        ]
                    }
                }
            ],
            "execution_count": 5
        },
        {
            "cell_type": "markdown",
            "source": [
                "Chi tiết hơn, dữ liệu cũng cho thấy giá cũng giống bơ Organic tại **Seattle** đã tăng liên tục trong 3 năm liên tiếp từ 2020 đến 2022.\n",
                "\n",
                "Điều này cũng có ý nghĩa rằng có sự khan hiếm về sản phẩm bơ Organic tại Seattle, nguồn cung bơ Organic tại đây không đủ để đáp ứng nhu cầu của người dân địa phương dẫn đến giá của giống bơ này tăng liên tục trong suốt 3 năm. \n",
                "\n",
                "Đây cũng chính là cơ hội cho các nhà kinh doanh tham gia vào thị trường bơ Organic tại đây."
            ],
            "metadata": {
                "language": "sql",
                "azdata_cell_guid": "15a65824-6ee6-460d-ba95-9d0888509645"
            },
            "attachments": {}
        }
    ]
}