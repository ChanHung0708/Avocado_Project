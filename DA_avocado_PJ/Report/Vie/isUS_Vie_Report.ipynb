{
    "metadata": {
        "kernelspec": {
            "name": "SQL",
            "display_name": "SQL",
            "language": "sql"
        },
        "language_info": {
            "name": "sql",
            "version": ""
        }
    },
    "nbformat_minor": 2,
    "nbformat": 4,
    "cells": [
        {
            "cell_type": "markdown",
            "source": [
                "# **AVOCADO DATA PROJECT**\n",
                "\n",
                "## **_Overall analysis of avocado market in the US from 2015 to 2022_**"
            ],
            "metadata": {
                "azdata_cell_guid": "be6803af-6dde-4469-9f96-bb812a4eb8c4"
            },
            "attachments": {}
        },
        {
            "cell_type": "markdown",
            "source": [
                "### **ANALYSIS BASED ON #avocado\\_isUS\\_2022**"
            ],
            "metadata": {
                "azdata_cell_guid": "e980469a-7be3-4637-aa14-fb53289e61bc"
            },
            "attachments": {}
        },
        {
            "cell_type": "markdown",
            "source": [
                "## \n",
                "\n",
                "1. **REVENUE**"
            ],
            "metadata": {
                "azdata_cell_guid": "19791ff0-175c-43ab-b102-94be5f76bbb9"
            },
            "attachments": {}
        },
        {
            "cell_type": "code",
            "source": [
                "--Conventional\r\n",
                "SELECT year,AVG(average_price)*SUM(total_volume) as Revenue_Con FROM avocado_isUS_2022\r\n",
                "WHERE type ='Conventional'\r\n",
                "GROUP BY geography,type,year\r\n",
                "ORDER BY year\r\n",
                "--Organic\r\n",
                "SELECT year,AVG(average_price)*SUM(total_volume) as Revenue_Org FROM avocado_isUS_2022\r\n",
                "WHERE type ='Organic'\r\n",
                "GROUP BY geography,type,year\r\n",
                "ORDER BY year"
            ],
            "metadata": {
                "azdata_cell_guid": "558e6015-91dd-4a27-81e9-bc11aa75db38",
                "language": "sql",
                "tags": [
                    "hide_input"
                ]
            },
            "outputs": [
                {
                    "output_type": "display_data",
                    "data": {
                        "text/html": "(8 rows affected)"
                    },
                    "metadata": {}
                },
                {
                    "output_type": "display_data",
                    "data": {
                        "text/html": "(8 rows affected)"
                    },
                    "metadata": {}
                },
                {
                    "output_type": "display_data",
                    "data": {
                        "text/html": "Total execution time: 00:00:00.028"
                    },
                    "metadata": {}
                },
                {
                    "output_type": "execute_result",
                    "execution_count": 13,
                    "data": {
                        "application/vnd.dataresource+json": {
                            "schema": {
                                "fields": [
                                    {
                                        "name": "year"
                                    },
                                    {
                                        "name": "Revenue_Con"
                                    }
                                ]
                            },
                            "data": [
                                {
                                    "0": "2015",
                                    "1": "1359187051.8134363"
                                },
                                {
                                    "0": "2016",
                                    "1": "1308968540.5572515"
                                },
                                {
                                    "0": "2017",
                                    "1": "1494987598.2972066"
                                },
                                {
                                    "0": "2018",
                                    "1": "1380332178.0031629"
                                },
                                {
                                    "0": "2019",
                                    "1": "1362530490.0921106"
                                },
                                {
                                    "0": "2020",
                                    "1": "1174958156.7824662"
                                },
                                {
                                    "0": "2021",
                                    "1": "1025208166.8200291"
                                },
                                {
                                    "0": "2022",
                                    "1": "1058908312.2300941"
                                }
                            ]
                        },
                        "text/html": "<table><tr><th>year</th><th>Revenue_Con</th></tr><tr><td>2015</td><td>1359187051.8134363</td></tr><tr><td>2016</td><td>1308968540.5572515</td></tr><tr><td>2017</td><td>1494987598.2972066</td></tr><tr><td>2018</td><td>1380332178.0031629</td></tr><tr><td>2019</td><td>1362530490.0921106</td></tr><tr><td>2020</td><td>1174958156.7824662</td></tr><tr><td>2021</td><td>1025208166.8200291</td></tr><tr><td>2022</td><td>1058908312.2300941</td></tr></table>"
                    },
                    "metadata": {
                        "azdata_chartOptions": {
                            "type": "bar",
                            "dataDirection": "horizontal",
                            "columnsAsLabels": true,
                            "labelFirstColumn": true,
                            "legendPosition": "top"
                        }
                    }
                },
                {
                    "output_type": "execute_result",
                    "execution_count": 13,
                    "data": {
                        "application/vnd.dataresource+json": {
                            "schema": {
                                "fields": [
                                    {
                                        "name": "year"
                                    },
                                    {
                                        "name": "Revenue_Org"
                                    }
                                ]
                            },
                            "data": [
                                {
                                    "0": "2015",
                                    "1": "36504230.53344666"
                                },
                                {
                                    "0": "2016",
                                    "1": "36241321.90639084"
                                },
                                {
                                    "0": "2017",
                                    "1": "38534030.991121165"
                                },
                                {
                                    "0": "2018",
                                    "1": "37019208.253344364"
                                },
                                {
                                    "0": "2019",
                                    "1": "29535711.58030229"
                                },
                                {
                                    "0": "2020",
                                    "1": "21413517.61187839"
                                },
                                {
                                    "0": "2021",
                                    "1": "17029318.6843664"
                                },
                                {
                                    "0": "2022",
                                    "1": "25004157.937022857"
                                }
                            ]
                        },
                        "text/html": "<table><tr><th>year</th><th>Revenue_Org</th></tr><tr><td>2015</td><td>36504230.53344666</td></tr><tr><td>2016</td><td>36241321.90639084</td></tr><tr><td>2017</td><td>38534030.991121165</td></tr><tr><td>2018</td><td>37019208.253344364</td></tr><tr><td>2019</td><td>29535711.58030229</td></tr><tr><td>2020</td><td>21413517.61187839</td></tr><tr><td>2021</td><td>17029318.6843664</td></tr><tr><td>2022</td><td>25004157.937022857</td></tr></table>"
                    },
                    "metadata": {
                        "azdata_chartOptions": {
                            "type": "bar",
                            "dataDirection": "horizontal",
                            "columnsAsLabels": true,
                            "labelFirstColumn": true,
                            "legendPosition": "top"
                        }
                    }
                }
            ],
            "execution_count": 13
        },
        {
            "cell_type": "markdown",
            "source": [
                "Bảng số liệu của 2 loại bơ Conventional & Organic cho thấy doanh thu bán ra của bơ đang bị giảm mạnh bắt đầu từ năm 2020, điều này rất có khả năng là do dịch COVID 19 tác động. Tuy nhiên cho đến 2022 doanh thu bán ra của cả 2 loại bơ đang có sự tăng nhẹ, điều này có nghĩa là thị trường bơ tại Mỹ đang có dấu hiệu khôi phục. \n",
                "\n",
                "Đặc biệt, giống bơ **Organic** có dấu hiệu tăng trưởng mạnh mẽ hơn giống **Conventional** trong năm **2022**\n",
                "\n",
                "**Conventional** năm **2021** _(1.025.208.166,8200291)_ so với **2022** _(1.058.908.312,2300941)_: tăng khoảng **_3.29%_**\n",
                "\n",
                "**Organic** năm **2021** _(17.029.318,6843664)_ so với **2022** _(25.004.157,937022857)_: tăng khoảng  **_46.83%_**\n",
                "\n",
                "Doanh thu ảnh hưởng bởi 2 yếu tố chính là giá (**_Price_**) và sản lượng bán ra (**_Volume_**). Cần xem xét qua 2 yếu tố này để đánh giá tại sao lại có sự khác biệt này."
            ],
            "metadata": {
                "language": "sql",
                "azdata_cell_guid": "9381aecd-6c84-4bb3-b4b1-99b33bd3f907"
            },
            "attachments": {}
        },
        {
            "cell_type": "markdown",
            "source": [
                "2. **PRICE**"
            ],
            "metadata": {
                "language": "sql",
                "azdata_cell_guid": "67045421-263c-4bf2-9c6f-1cfccabb6e3f"
            },
            "attachments": {}
        },
        {
            "cell_type": "code",
            "source": [
                "--Conventional\r\n",
                "SELECT  year, AVG(average_price) as Price_Con FROM avocado_isUS_2022\r\n",
                "WHERE type ='Conventional'\r\n",
                "GROUP BY geography,type,year\r\n",
                "ORDER BY year\r\n",
                "--Organic\r\n",
                "SELECT  year, AVG(average_price) as Price_Org FROM avocado_isUS_2022\r\n",
                "WHERE type ='Organic'\r\n",
                "GROUP BY geography,type,year\r\n",
                "ORDER BY year"
            ],
            "metadata": {
                "language": "sql",
                "azdata_cell_guid": "557a48bb-c261-4023-a61d-3b5c7ed3b58e",
                "tags": []
            },
            "outputs": [
                {
                    "output_type": "display_data",
                    "data": {
                        "text/html": "(8 rows affected)"
                    },
                    "metadata": {}
                },
                {
                    "output_type": "display_data",
                    "data": {
                        "text/html": "(8 rows affected)"
                    },
                    "metadata": {}
                },
                {
                    "output_type": "display_data",
                    "data": {
                        "text/html": "Total execution time: 00:00:00.021"
                    },
                    "metadata": {}
                },
                {
                    "output_type": "execute_result",
                    "execution_count": 14,
                    "data": {
                        "application/vnd.dataresource+json": {
                            "schema": {
                                "fields": [
                                    {
                                        "name": "year"
                                    },
                                    {
                                        "name": "Price_Con"
                                    }
                                ]
                            },
                            "data": [
                                {
                                    "0": "2015",
                                    "1": "1.0124999915178006"
                                },
                                {
                                    "0": "2016",
                                    "1": "1.0467307682220752"
                                },
                                {
                                    "0": "2017",
                                    "1": "1.2216981177060109"
                                },
                                {
                                    "0": "2018",
                                    "1": "1.083673474740009"
                                },
                                {
                                    "0": "2019",
                                    "1": "1.143653848996529"
                                },
                                {
                                    "0": "2020",
                                    "1": "1.0187499982615311"
                                },
                                {
                                    "0": "2021",
                                    "1": "1.0942307733572447"
                                },
                                {
                                    "0": "2022",
                                    "1": "1.282307689006512"
                                }
                            ]
                        },
                        "text/html": "<table><tr><th>year</th><th>Price_Con</th></tr><tr><td>2015</td><td>1.0124999915178006</td></tr><tr><td>2016</td><td>1.0467307682220752</td></tr><tr><td>2017</td><td>1.2216981177060109</td></tr><tr><td>2018</td><td>1.083673474740009</td></tr><tr><td>2019</td><td>1.143653848996529</td></tr><tr><td>2020</td><td>1.0187499982615311</td></tr><tr><td>2021</td><td>1.0942307733572447</td></tr><tr><td>2022</td><td>1.282307689006512</td></tr></table>"
                    },
                    "metadata": {
                        "azdata_chartOptions": {
                            "type": "line",
                            "dataDirection": "vertical",
                            "columnsAsLabels": true,
                            "labelFirstColumn": false,
                            "legendPosition": "top",
                            "dataType": "number"
                        }
                    }
                },
                {
                    "output_type": "execute_result",
                    "execution_count": 14,
                    "data": {
                        "application/vnd.dataresource+json": {
                            "schema": {
                                "fields": [
                                    {
                                        "name": "year"
                                    },
                                    {
                                        "name": "Price_Org"
                                    }
                                ]
                            },
                            "data": [
                                {
                                    "0": "2015",
                                    "1": "1.5023076901069055"
                                },
                                {
                                    "0": "2016",
                                    "1": "1.480384613458927"
                                },
                                {
                                    "0": "2017",
                                    "1": "1.6515094311732166"
                                },
                                {
                                    "0": "2018",
                                    "1": "1.5616326453734417"
                                },
                                {
                                    "0": "2019",
                                    "1": "1.6201923145697668"
                                },
                                {
                                    "0": "2020",
                                    "1": "1.5304166749119759"
                                },
                                {
                                    "0": "2021",
                                    "1": "1.6039583384990692"
                                },
                                {
                                    "0": "2022",
                                    "1": "1.7082692315945258"
                                }
                            ]
                        },
                        "text/html": "<table><tr><th>year</th><th>Price_Org</th></tr><tr><td>2015</td><td>1.5023076901069055</td></tr><tr><td>2016</td><td>1.480384613458927</td></tr><tr><td>2017</td><td>1.6515094311732166</td></tr><tr><td>2018</td><td>1.5616326453734417</td></tr><tr><td>2019</td><td>1.6201923145697668</td></tr><tr><td>2020</td><td>1.5304166749119759</td></tr><tr><td>2021</td><td>1.6039583384990692</td></tr><tr><td>2022</td><td>1.7082692315945258</td></tr></table>"
                    },
                    "metadata": {
                        "azdata_chartOptions": {
                            "type": "line",
                            "dataDirection": "vertical",
                            "columnsAsLabels": true,
                            "labelFirstColumn": false,
                            "legendPosition": "top",
                            "dataType": "number"
                        }
                    }
                }
            ],
            "execution_count": 14
        },
        {
            "cell_type": "markdown",
            "source": [
                "Tại Mỹ, giá trung bình của giống bơ **Organic** luôn cao hơn **Conventional** từ **33% - 50%** trong suốt 7 năm từ 2015 - 2022\n",
                "\n",
                "Năm **2022** đạt kỷ lục là năm có giá bơ cao nhất ở cả hai giống Conventional & Organic .\n",
                "\n",
                "Giá tăng đồng nghĩa với việc thị trường bơ tại Mỹ đang đối mặt với sự khan hiếm bơ lớn nhất từ 2015 cho đến nay.  [(Link)](https:\\moit.gov.vn\\tin-tuc\\quoc-te\\gioi-thieu-thi-truong-qua-bo-hoa-ky.html)"
            ],
            "metadata": {
                "language": "sql",
                "azdata_cell_guid": "64ed61ef-cee7-456d-8b85-a6727f4579a6"
            },
            "attachments": {}
        },
        {
            "cell_type": "markdown",
            "source": [
                "3. **VOLUME**"
            ],
            "metadata": {
                "language": "sql",
                "azdata_cell_guid": "39813076-1c3a-4826-b503-f4c5fa0b66f6"
            },
            "attachments": {}
        },
        {
            "cell_type": "code",
            "source": [
                "--Conventional\r\n",
                "SELECT year, SUM(total_volume) as Volume_Con_lbs FROM avocado_isUS_2022\r\n",
                "WHERE type ='Conventional'\r\n",
                "GROUP BY geography,type,year\r\n",
                "ORDER BY year\r\n",
                "--Organic\r\n",
                "SELECT year, SUM(total_volume) as Volume_Org_lbs FROM avocado_isUS_2022\r\n",
                "WHERE type ='Organic'\r\n",
                "GROUP BY geography,type,year\r\n",
                "ORDER BY year"
            ],
            "metadata": {
                "language": "sql",
                "azdata_cell_guid": "19453b83-637a-4c3b-8e5e-7553523d8f1e",
                "tags": []
            },
            "outputs": [
                {
                    "output_type": "display_data",
                    "data": {
                        "text/html": "(8 rows affected)"
                    },
                    "metadata": {}
                },
                {
                    "output_type": "display_data",
                    "data": {
                        "text/html": "(8 rows affected)"
                    },
                    "metadata": {}
                },
                {
                    "output_type": "display_data",
                    "data": {
                        "text/html": "Total execution time: 00:00:00.032"
                    },
                    "metadata": {}
                },
                {
                    "output_type": "execute_result",
                    "execution_count": 15,
                    "data": {
                        "application/vnd.dataresource+json": {
                            "schema": {
                                "fields": [
                                    {
                                        "name": "year"
                                    },
                                    {
                                        "name": "Volume_Con_lbs"
                                    }
                                ]
                            },
                            "data": [
                                {
                                    "0": "2015",
                                    "1": "1342406976"
                                },
                                {
                                    "0": "2016",
                                    "1": "1250530299"
                                },
                                {
                                    "0": "2017",
                                    "1": "1223696408"
                                },
                                {
                                    "0": "2018",
                                    "1": "1273752851"
                                },
                                {
                                    "0": "2019",
                                    "1": "1191383644"
                                },
                                {
                                    "0": "2020",
                                    "1": "1153333162"
                                },
                                {
                                    "0": "2021",
                                    "1": "936921344"
                                },
                                {
                                    "0": "2022",
                                    "1": "825783329"
                                }
                            ]
                        },
                        "text/html": "<table><tr><th>year</th><th>Volume_Con_lbs</th></tr><tr><td>2015</td><td>1342406976</td></tr><tr><td>2016</td><td>1250530299</td></tr><tr><td>2017</td><td>1223696408</td></tr><tr><td>2018</td><td>1273752851</td></tr><tr><td>2019</td><td>1191383644</td></tr><tr><td>2020</td><td>1153333162</td></tr><tr><td>2021</td><td>936921344</td></tr><tr><td>2022</td><td>825783329</td></tr></table>"
                    },
                    "metadata": {
                        "azdata_chartOptions": {
                            "type": "bar",
                            "dataDirection": "horizontal",
                            "columnsAsLabels": true,
                            "labelFirstColumn": true,
                            "legendPosition": "top"
                        }
                    }
                },
                {
                    "output_type": "execute_result",
                    "execution_count": 15,
                    "data": {
                        "application/vnd.dataresource+json": {
                            "schema": {
                                "fields": [
                                    {
                                        "name": "year"
                                    },
                                    {
                                        "name": "Volume_Org_lbs"
                                    }
                                ]
                            },
                            "data": [
                                {
                                    "0": "2015",
                                    "1": "24298771"
                                },
                                {
                                    "0": "2016",
                                    "1": "24481017.6875"
                                },
                                {
                                    "0": "2017",
                                    "1": "23332613.34375"
                                },
                                {
                                    "0": "2018",
                                    "1": "23705452.34375"
                                },
                                {
                                    "0": "2019",
                                    "1": "18229756.625"
                                },
                                {
                                    "0": "2020",
                                    "1": "13991952.625"
                                },
                                {
                                    "0": "2021",
                                    "1": "10617057.984375"
                                },
                                {
                                    "0": "2022",
                                    "1": "14637129.484375"
                                }
                            ]
                        },
                        "text/html": "<table><tr><th>year</th><th>Volume_Org_lbs</th></tr><tr><td>2015</td><td>24298771</td></tr><tr><td>2016</td><td>24481017.6875</td></tr><tr><td>2017</td><td>23332613.34375</td></tr><tr><td>2018</td><td>23705452.34375</td></tr><tr><td>2019</td><td>18229756.625</td></tr><tr><td>2020</td><td>13991952.625</td></tr><tr><td>2021</td><td>10617057.984375</td></tr><tr><td>2022</td><td>14637129.484375</td></tr></table>"
                    },
                    "metadata": {
                        "azdata_chartOptions": {
                            "type": "bar",
                            "dataDirection": "horizontal",
                            "columnsAsLabels": true,
                            "labelFirstColumn": true,
                            "legendPosition": "top"
                        }
                    }
                }
            ],
            "execution_count": 15
        },
        {
            "cell_type": "markdown",
            "source": [
                "Trong khi sản lượng bán ra của bơ **Con** giảm liên tục trong nhiều năm từ **2019** (_1.191.383.644/lbs_) - **2022** (_825.783.329/lbs_). \n",
                "\n",
                "Thì giống bơ **Org** lại có sản lượng bán ra tăng mạnh trở lại trong năm **2022** _(14.637.129,484375/lbs)_ so với sản lượng năm trước đó **2021** _(10.617.057,984375/lbs)._\n",
                "\n",
                "_Cho thấy khách hàng tại Mỹ đang có xu hướng ưa chuộng giống bơ **Organic** hơn giống **Conventional.**_"
            ],
            "metadata": {
                "language": "sql",
                "azdata_cell_guid": "0ffccbdc-b70b-425e-bbb0-4ef1bde8fec4"
            },
            "attachments": {}
        },
        {
            "cell_type": "markdown",
            "source": [
                "Cụ thể:"
            ],
            "metadata": {
                "language": "sql",
                "azdata_cell_guid": "f030260f-913a-4297-81cb-9321c4aa564b"
            },
            "attachments": {}
        },
        {
            "cell_type": "code",
            "source": [
                "SELECT year, \r\n",
                "SUM(_4046) as __4046Oz,\r\n",
                "SUM(_4225) as __4225Oz,\r\n",
                "SUM(_4770) as __4770Oz\r\n",
                "FROM avocado_isUS_2022\r\n",
                "WHERE type ='Organic'\r\n",
                "GROUP BY geography,type,year\r\n",
                "ORDER BY year"
            ],
            "metadata": {
                "language": "sql",
                "azdata_cell_guid": "e36af4aa-b294-45ec-abd6-f4d3a75c925f",
                "tags": []
            },
            "outputs": [
                {
                    "output_type": "display_data",
                    "data": {
                        "text/html": "(8 rows affected)"
                    },
                    "metadata": {}
                },
                {
                    "output_type": "display_data",
                    "data": {
                        "text/html": "Total execution time: 00:00:00.015"
                    },
                    "metadata": {}
                },
                {
                    "output_type": "execute_result",
                    "execution_count": 16,
                    "data": {
                        "application/vnd.dataresource+json": {
                            "schema": {
                                "fields": [
                                    {
                                        "name": "year"
                                    },
                                    {
                                        "name": "__4046Oz"
                                    },
                                    {
                                        "name": "__4225Oz"
                                    },
                                    {
                                        "name": "__4770Oz"
                                    }
                                ]
                            },
                            "data": [
                                {
                                    "0": "2015",
                                    "1": "9612079.96875",
                                    "2": "14376136.765625",
                                    "3": "310541.2287597656"
                                },
                                {
                                    "0": "2016",
                                    "1": "6934600.2578125",
                                    "2": "17116658.71875",
                                    "3": "429758.72705078125"
                                },
                                {
                                    "0": "2017",
                                    "1": "6882024.4296875",
                                    "2": "16282228.6875",
                                    "3": "157027.9600830078"
                                },
                                {
                                    "0": "2018",
                                    "1": "7104916.78125",
                                    "2": "15590364.515625",
                                    "3": "71548.4700012207"
                                },
                                {
                                    "0": "2019",
                                    "1": "6759083.984375",
                                    "2": "11218817.40625",
                                    "3": "247357.86840820312"
                                },
                                {
                                    "0": "2020",
                                    "1": "5799565.1484375",
                                    "2": "7950621.671875",
                                    "3": "240688.36840820312"
                                },
                                {
                                    "0": "2021",
                                    "1": "4119032.28125",
                                    "2": "6287378.484375",
                                    "3": "210647.24612426758"
                                },
                                {
                                    "0": "2022",
                                    "1": "5359734.7109375",
                                    "2": "4506033.0953063965",
                                    "3": "4771361.300014496"
                                }
                            ]
                        },
                        "text/html": "<table><tr><th>year</th><th>__4046Oz</th><th>__4225Oz</th><th>__4770Oz</th></tr><tr><td>2015</td><td>9612079.96875</td><td>14376136.765625</td><td>310541.2287597656</td></tr><tr><td>2016</td><td>6934600.2578125</td><td>17116658.71875</td><td>429758.72705078125</td></tr><tr><td>2017</td><td>6882024.4296875</td><td>16282228.6875</td><td>157027.9600830078</td></tr><tr><td>2018</td><td>7104916.78125</td><td>15590364.515625</td><td>71548.4700012207</td></tr><tr><td>2019</td><td>6759083.984375</td><td>11218817.40625</td><td>247357.86840820312</td></tr><tr><td>2020</td><td>5799565.1484375</td><td>7950621.671875</td><td>240688.36840820312</td></tr><tr><td>2021</td><td>4119032.28125</td><td>6287378.484375</td><td>210647.24612426758</td></tr><tr><td>2022</td><td>5359734.7109375</td><td>4506033.0953063965</td><td>4771361.300014496</td></tr></table>"
                    },
                    "metadata": {
                        "azdata_chartOptions": {
                            "type": "bar",
                            "dataDirection": "horizontal",
                            "columnsAsLabels": true,
                            "labelFirstColumn": true,
                            "legendPosition": "top"
                        }
                    }
                }
            ],
            "execution_count": 16
        },
        {
            "cell_type": "markdown",
            "source": [
                "Sự tăng trưởng bất ngờ sản lượng bán ra của giống bơ **Organic** trong năm **2022** cụ thể bắt nguồn từ sản lượng bán ra tăng bất ngờ của loại bơ \\_4770 thuộc giống bơ **Organic** trong năm **2022** _(4.771.361,300014496)_ so với **2021** chỉ có _(210.647,24612426758)_"
            ],
            "metadata": {
                "language": "sql",
                "azdata_cell_guid": "15ab86ec-ba74-4bcd-857c-5dd70e01100a"
            },
            "attachments": {}
        },
        {
            "cell_type": "code",
            "source": [
                "SELECT year, \r\n",
                "SUM(_4770) as __4770Oz\r\n",
                "FROM avocado_isUS_2022\r\n",
                "WHERE type = 'Organic'\r\n",
                "GROUP BY geography,type,year\r\n",
                "ORDER BY year"
            ],
            "metadata": {
                "language": "sql",
                "azdata_cell_guid": "5845ca2d-f285-49c7-bb64-efbb75864205",
                "tags": []
            },
            "outputs": [
                {
                    "output_type": "display_data",
                    "data": {
                        "text/html": "(8 rows affected)"
                    },
                    "metadata": {}
                },
                {
                    "output_type": "display_data",
                    "data": {
                        "text/html": "Total execution time: 00:00:00.014"
                    },
                    "metadata": {}
                },
                {
                    "output_type": "execute_result",
                    "execution_count": 17,
                    "data": {
                        "application/vnd.dataresource+json": {
                            "schema": {
                                "fields": [
                                    {
                                        "name": "year"
                                    },
                                    {
                                        "name": "__4770Oz"
                                    }
                                ]
                            },
                            "data": [
                                {
                                    "0": "2015",
                                    "1": "310541.2287597656"
                                },
                                {
                                    "0": "2016",
                                    "1": "429758.72705078125"
                                },
                                {
                                    "0": "2017",
                                    "1": "157027.9600830078"
                                },
                                {
                                    "0": "2018",
                                    "1": "71548.4700012207"
                                },
                                {
                                    "0": "2019",
                                    "1": "247357.86840820312"
                                },
                                {
                                    "0": "2020",
                                    "1": "240688.36840820312"
                                },
                                {
                                    "0": "2021",
                                    "1": "210647.24612426758"
                                },
                                {
                                    "0": "2022",
                                    "1": "4771361.300014496"
                                }
                            ]
                        },
                        "text/html": "<table><tr><th>year</th><th>__4770Oz</th></tr><tr><td>2015</td><td>310541.2287597656</td></tr><tr><td>2016</td><td>429758.72705078125</td></tr><tr><td>2017</td><td>157027.9600830078</td></tr><tr><td>2018</td><td>71548.4700012207</td></tr><tr><td>2019</td><td>247357.86840820312</td></tr><tr><td>2020</td><td>240688.36840820312</td></tr><tr><td>2021</td><td>210647.24612426758</td></tr><tr><td>2022</td><td>4771361.300014496</td></tr></table>"
                    },
                    "metadata": {
                        "azdata_chartOptions": {
                            "type": "bar",
                            "dataDirection": "horizontal",
                            "columnsAsLabels": true,
                            "labelFirstColumn": true,
                            "legendPosition": "top"
                        }
                    }
                }
            ],
            "execution_count": 17
        },
        {
            "cell_type": "markdown",
            "source": [
                "So với năm **2021**, sản lượng bán ra của loại bơ _4770_ thuộc giống bơ **Organic** đã tăng gấp **22** lần trong năm **2022.**"
            ],
            "metadata": {
                "language": "sql",
                "azdata_cell_guid": "e508e180-6994-41f9-83ab-17e01839e1bc"
            },
            "attachments": {}
        },
        {
            "cell_type": "code",
            "source": [
                "--PERCENT OF ORGANIC VOLUME IN 2022\r\n",
                "SELECT year, \r\n",
                "SUM(_4046)/SUM(total_volume)*100 as Per_4046Oz,\r\n",
                "SUM(_4225)/SUM(total_volume)*100 as Per_4225Oz,\r\n",
                "SUM(_4770)/SUM(total_volume)*100 as Per_4770Oz\r\n",
                "FROM avocado_isUS_2022\r\n",
                "WHERE type ='Organic' AND year ='2022'\r\n",
                "GROUP BY geography,type,year\r\n",
                "ORDER BY year\r\n",
                ""
            ],
            "metadata": {
                "language": "sql",
                "azdata_cell_guid": "7d0be6a4-d9ba-4b8a-b29c-e64a0f1d739c",
                "tags": []
            },
            "outputs": [
                {
                    "output_type": "display_data",
                    "data": {
                        "text/html": "(1 row affected)"
                    },
                    "metadata": {}
                },
                {
                    "output_type": "display_data",
                    "data": {
                        "text/html": "Total execution time: 00:00:00.086"
                    },
                    "metadata": {}
                },
                {
                    "output_type": "execute_result",
                    "execution_count": 1,
                    "data": {
                        "application/vnd.dataresource+json": {
                            "schema": {
                                "fields": [
                                    {
                                        "name": "year"
                                    },
                                    {
                                        "name": "Per_4046Oz"
                                    },
                                    {
                                        "name": "Per_4225Oz"
                                    },
                                    {
                                        "name": "Per_4770Oz"
                                    }
                                ]
                            },
                            "data": [
                                {
                                    "0": "2022",
                                    "1": "36.61738947284006",
                                    "2": "30.784950697584147",
                                    "3": "32.597657246305566"
                                }
                            ]
                        },
                        "text/html": "<table><tr><th>year</th><th>Per_4046Oz</th><th>Per_4225Oz</th><th>Per_4770Oz</th></tr><tr><td>2022</td><td>36.61738947284006</td><td>30.784950697584147</td><td>32.597657246305566</td></tr></table>"
                    },
                    "metadata": {
                        "azdata_chartOptions": {
                            "type": "pie",
                            "dataDirection": "horizontal",
                            "columnsAsLabels": true,
                            "labelFirstColumn": true,
                            "legendPosition": "right"
                        }
                    }
                }
            ],
            "execution_count": 1
        },
        {
            "cell_type": "markdown",
            "source": [
                "Số liệu cho thấy phần trăm của sản lượng bơ **\\_4770 Organic** bán ra trong năm **2022** đã tăng đến **32,6%** vượt mặt cả loại bơ **\\_4225 Organic (30,8%)**. Trong khi cùng kì năm ngoái sản lượng bán ra của 2 loại bơ này có sự chênh lệch khá lớn.  \n",
                "\n",
                "\\_4225 Organic **(2021): chiếm 59.2% tổng sản lượng Organic bán ra**<span style=\"background-color: rgba(220, 220, 220, 0.4); white-space: pre-wrap;\"><br></span>\n",
                "\n",
                "\\_4770 Organic **(2021):** **chiếm 1.98% tổng sản lượng Organic bán ra**\n",
                "\n",
                "Điều này cho thấy xu hướng ưa chuộng loại bơ **\\_4770 Organic** đang xuất hiện tại Mỹ. Nhu cầu tiêu thụ loại bơ này cũng tăng mạnh trong năm **2022.**"
            ],
            "metadata": {
                "language": "sql",
                "azdata_cell_guid": "e818743a-a7b7-44df-851a-e89402bf2237"
            },
            "attachments": {}
        },
        {
            "cell_type": "code",
            "source": [
                "SELECT year, \r\n",
                "SUM(_4046) as __4046Oz,\r\n",
                "SUM(_4225) as __4225Oz,\r\n",
                "SUM(_4770) as __4770Oz \r\n",
                "FROM avocado_isUS_2022\r\n",
                "WHERE type ='Conventional'\r\n",
                "GROUP BY geography,type,year\r\n",
                "ORDER BY year"
            ],
            "metadata": {
                "language": "sql",
                "azdata_cell_guid": "646b97bc-c33a-484c-beea-3140a6ee3c08",
                "tags": []
            },
            "outputs": [
                {
                    "output_type": "display_data",
                    "data": {
                        "text/html": "(8 rows affected)"
                    },
                    "metadata": {}
                },
                {
                    "output_type": "display_data",
                    "data": {
                        "text/html": "Total execution time: 00:00:00.014"
                    },
                    "metadata": {}
                },
                {
                    "output_type": "execute_result",
                    "execution_count": 2,
                    "data": {
                        "application/vnd.dataresource+json": {
                            "schema": {
                                "fields": [
                                    {
                                        "name": "year"
                                    },
                                    {
                                        "name": "__4046Oz"
                                    },
                                    {
                                        "name": "__4225Oz"
                                    },
                                    {
                                        "name": "__4770Oz"
                                    }
                                ]
                            },
                            "data": [
                                {
                                    "0": "2015",
                                    "1": "642295763.5",
                                    "2": "646812350",
                                    "3": "53298869.9375"
                                },
                                {
                                    "0": "2016",
                                    "1": "582012080.5",
                                    "2": "608520955.5",
                                    "3": "59997261.78125"
                                },
                                {
                                    "0": "2017",
                                    "1": "629495142.5",
                                    "2": "560752231.5",
                                    "3": "33449030.34375"
                                },
                                {
                                    "0": "2018",
                                    "1": "656826179.5",
                                    "2": "580248320.5",
                                    "3": "36678348.125"
                                },
                                {
                                    "0": "2019",
                                    "1": "615756300",
                                    "2": "530238781.5",
                                    "3": "45386245.625"
                                },
                                {
                                    "0": "2020",
                                    "1": "681665747",
                                    "2": "435489098.5",
                                    "3": "36082427.6875"
                                },
                                {
                                    "0": "2021",
                                    "1": "557177327",
                                    "2": "353250315.25",
                                    "3": "26493700.46875"
                                },
                                {
                                    "0": "2022",
                                    "1": "538637767.5",
                                    "2": "265609524.75",
                                    "3": "21536033.6875"
                                }
                            ]
                        },
                        "text/html": "<table><tr><th>year</th><th>__4046Oz</th><th>__4225Oz</th><th>__4770Oz</th></tr><tr><td>2015</td><td>642295763.5</td><td>646812350</td><td>53298869.9375</td></tr><tr><td>2016</td><td>582012080.5</td><td>608520955.5</td><td>59997261.78125</td></tr><tr><td>2017</td><td>629495142.5</td><td>560752231.5</td><td>33449030.34375</td></tr><tr><td>2018</td><td>656826179.5</td><td>580248320.5</td><td>36678348.125</td></tr><tr><td>2019</td><td>615756300</td><td>530238781.5</td><td>45386245.625</td></tr><tr><td>2020</td><td>681665747</td><td>435489098.5</td><td>36082427.6875</td></tr><tr><td>2021</td><td>557177327</td><td>353250315.25</td><td>26493700.46875</td></tr><tr><td>2022</td><td>538637767.5</td><td>265609524.75</td><td>21536033.6875</td></tr></table>"
                    },
                    "metadata": {
                        "azdata_chartOptions": {
                            "type": "bar",
                            "dataDirection": "horizontal",
                            "columnsAsLabels": true,
                            "labelFirstColumn": true,
                            "legendPosition": "top"
                        }
                    }
                }
            ],
            "execution_count": 2
        },
        {
            "cell_type": "markdown",
            "source": [
                "Đối với giống bơ **Conventional**, xu hướng sụt giảm về sản lượng bơ ở cả 3 loại **\\_4046,\\_4225,\\_4770** vẫn chưa có dấu hiệu dừng lại. \n",
                "\n",
                "Cho thấy người tiêu dùng đang dần xem trọng việc lựa chọn bơ hữu cơ, so với các loại bơ thông thường mặc dù giá cả của những loại bơ này thường đắt hơn"
            ],
            "metadata": {
                "language": "sql",
                "azdata_cell_guid": "b989c366-7013-4806-8103-2e46233644ab"
            },
            "attachments": {}
        },
        {
            "cell_type": "markdown",
            "source": [
                "3. **SEASON**"
            ],
            "metadata": {
                "language": "sql",
                "azdata_cell_guid": "b1c6c57a-a184-4665-8002-af9964b31152"
            },
            "attachments": {}
        },
        {
            "cell_type": "code",
            "source": [
                "--SEASON_Conventional\r\n",
                "SELECT MONTH(date) as Month, SUM(total_volume) as vol_con FROM avocado_isUS_2022\r\n",
                "WHERE type ='Conventional'\r\n",
                "GROUP BY geography,type,MONTH(date)\r\n",
                "ORDER BY 1 \r\n",
                "--SEASON_Organic\r\n",
                "SELECT MONTH(date) as Month, SUM(total_volume) as vol_org FROM avocado_isUS_2022\r\n",
                "WHERE type ='Organic'\r\n",
                "GROUP BY geography,type,MONTH(date)\r\n",
                "ORDER BY 1 "
            ],
            "metadata": {
                "language": "sql",
                "azdata_cell_guid": "7690363e-b7a7-4258-954f-7e59f9f642da",
                "tags": []
            },
            "outputs": [
                {
                    "output_type": "display_data",
                    "data": {
                        "text/html": "(12 rows affected)"
                    },
                    "metadata": {}
                },
                {
                    "output_type": "display_data",
                    "data": {
                        "text/html": "(12 rows affected)"
                    },
                    "metadata": {}
                },
                {
                    "output_type": "display_data",
                    "data": {
                        "text/html": "Total execution time: 00:00:00.034"
                    },
                    "metadata": {}
                },
                {
                    "output_type": "execute_result",
                    "execution_count": 6,
                    "data": {
                        "application/vnd.dataresource+json": {
                            "schema": {
                                "fields": [
                                    {
                                        "name": "Month"
                                    },
                                    {
                                        "name": "vol_con"
                                    }
                                ]
                            },
                            "data": [
                                {
                                    "0": "1",
                                    "1": "895064453"
                                },
                                {
                                    "0": "2",
                                    "1": "850165250"
                                },
                                {
                                    "0": "3",
                                    "1": "816241608"
                                },
                                {
                                    "0": "4",
                                    "1": "804253789"
                                },
                                {
                                    "0": "5",
                                    "1": "952383489"
                                },
                                {
                                    "0": "6",
                                    "1": "794186327"
                                },
                                {
                                    "0": "7",
                                    "1": "818447907"
                                },
                                {
                                    "0": "8",
                                    "1": "757567216"
                                },
                                {
                                    "0": "9",
                                    "1": "703507824"
                                },
                                {
                                    "0": "10",
                                    "1": "677362246"
                                },
                                {
                                    "0": "11",
                                    "1": "618353296"
                                },
                                {
                                    "0": "12",
                                    "1": "510274608"
                                }
                            ]
                        },
                        "text/html": "<table><tr><th>Month</th><th>vol_con</th></tr><tr><td>1</td><td>895064453</td></tr><tr><td>2</td><td>850165250</td></tr><tr><td>3</td><td>816241608</td></tr><tr><td>4</td><td>804253789</td></tr><tr><td>5</td><td>952383489</td></tr><tr><td>6</td><td>794186327</td></tr><tr><td>7</td><td>818447907</td></tr><tr><td>8</td><td>757567216</td></tr><tr><td>9</td><td>703507824</td></tr><tr><td>10</td><td>677362246</td></tr><tr><td>11</td><td>618353296</td></tr><tr><td>12</td><td>510274608</td></tr></table>"
                    },
                    "metadata": {
                        "azdata_chartOptions": {
                            "type": "bar",
                            "dataDirection": "vertical",
                            "columnsAsLabels": true,
                            "labelFirstColumn": false,
                            "legendPosition": "top"
                        }
                    }
                },
                {
                    "output_type": "execute_result",
                    "execution_count": 6,
                    "data": {
                        "application/vnd.dataresource+json": {
                            "schema": {
                                "fields": [
                                    {
                                        "name": "Month"
                                    },
                                    {
                                        "name": "vol_org"
                                    }
                                ]
                            },
                            "data": [
                                {
                                    "0": "1",
                                    "1": "13402442.9375"
                                },
                                {
                                    "0": "2",
                                    "1": "12777332.59375"
                                },
                                {
                                    "0": "3",
                                    "1": "14569741.984375"
                                },
                                {
                                    "0": "4",
                                    "1": "15184915.359375"
                                },
                                {
                                    "0": "5",
                                    "1": "18418215.546875"
                                },
                                {
                                    "0": "6",
                                    "1": "15811830.546875"
                                },
                                {
                                    "0": "7",
                                    "1": "12904256.265625"
                                },
                                {
                                    "0": "8",
                                    "1": "11816838.84375"
                                },
                                {
                                    "0": "9",
                                    "1": "11056192.25"
                                },
                                {
                                    "0": "10",
                                    "1": "10206592.296875"
                                },
                                {
                                    "0": "11",
                                    "1": "9828576.96875"
                                },
                                {
                                    "0": "12",
                                    "1": "7316815.5"
                                }
                            ]
                        },
                        "text/html": "<table><tr><th>Month</th><th>vol_org</th></tr><tr><td>1</td><td>13402442.9375</td></tr><tr><td>2</td><td>12777332.59375</td></tr><tr><td>3</td><td>14569741.984375</td></tr><tr><td>4</td><td>15184915.359375</td></tr><tr><td>5</td><td>18418215.546875</td></tr><tr><td>6</td><td>15811830.546875</td></tr><tr><td>7</td><td>12904256.265625</td></tr><tr><td>8</td><td>11816838.84375</td></tr><tr><td>9</td><td>11056192.25</td></tr><tr><td>10</td><td>10206592.296875</td></tr><tr><td>11</td><td>9828576.96875</td></tr><tr><td>12</td><td>7316815.5</td></tr></table>"
                    },
                    "metadata": {
                        "azdata_chartOptions": {
                            "type": "bar",
                            "dataDirection": "vertical",
                            "columnsAsLabels": true,
                            "labelFirstColumn": true,
                            "legendPosition": "top"
                        }
                    }
                }
            ],
            "execution_count": 6
        },
        {
            "cell_type": "markdown",
            "source": [
                "Khoảng thời gian bơ bán chạy nhất trong năm là đầu mùa Hè tầm **THÁNG 5**, giảm dần đến cuối năm và bắt đầu tăng lại ở đầu mùa Xuân năm sau.\n",
                "\n",
                "Đây là khung thời gian chung của cả 2 giống bơ là **Organic** và **Conventional**"
            ],
            "metadata": {
                "language": "sql",
                "azdata_cell_guid": "cb949873-ba19-42ee-8f2d-070cf940ae2c"
            },
            "attachments": {}
        }
    ]
}